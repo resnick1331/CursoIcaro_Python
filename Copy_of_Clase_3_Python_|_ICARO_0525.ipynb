{
  "nbformat": 4,
  "nbformat_minor": 0,
  "metadata": {
    "colab": {
      "provenance": [],
      "include_colab_link": true
    },
    "kernelspec": {
      "name": "python3",
      "display_name": "Python 3"
    },
    "language_info": {
      "name": "python"
    }
  },
  "cells": [
    {
      "cell_type": "markdown",
      "metadata": {
        "id": "view-in-github",
        "colab_type": "text"
      },
      "source": [
        "<a href=\"https://colab.research.google.com/github/resnick1331/CursoIcaro_Python/blob/main/Copy_of_Clase_3_Python_%7C_ICARO_0525.ipynb\" target=\"_parent\"><img src=\"https://colab.research.google.com/assets/colab-badge.svg\" alt=\"Open In Colab\"/></a>"
      ]
    },
    {
      "cell_type": "markdown",
      "source": [
        "# Introducción a Python - ICARO\n",
        "_________________________________\n",
        "Clase: 03  \n",
        "Tema: Enumerate, Range, Funciones\n",
        "_________________________________\n",
        "\n",
        "\n"
      ],
      "metadata": {
        "id": "XlT9bCZ32a9t"
      }
    },
    {
      "cell_type": "markdown",
      "source": [
        "Ya se ha visto cómo iterar listas con bucles for.\n",
        "\n",
        "En python, existen algunas funciones que pueden ser muy útiles a la hora de iterar listas, diccionarios, tuplas, etc.\n",
        "\n",
        "## enumerate()\n",
        "\n",
        "La función enumerate() toma como argumento un objeto **iterable** y retorna otro cuyos elementos son **tuplas de dos elementos**, el primero de los cuales indica la **posición** del elemento y el segundo, el valor de el elemento mismo.\n",
        "\n",
        "¿Suena un poco confuso?\n",
        "\n",
        "Veamos un ejemplo:\n"
      ],
      "metadata": {
        "id": "H_huJSa5Q_jY"
      }
    },
    {
      "cell_type": "code",
      "source": [
        "list(enumerate([\"hola\", \"como\", \"va\"]))"
      ],
      "metadata": {
        "id": "Oa3lyup6okDy",
        "colab": {
          "base_uri": "https://localhost:8080/"
        },
        "outputId": "a1fedf10-dcc5-4a5b-e2d3-264d96a6a3ad"
      },
      "execution_count": null,
      "outputs": [
        {
          "output_type": "execute_result",
          "data": {
            "text/plain": [
              "[(0, 'hola'), (1, 'como'), (2, 'va')]"
            ]
          },
          "metadata": {},
          "execution_count": 33
        }
      ]
    },
    {
      "cell_type": "code",
      "execution_count": null,
      "metadata": {
        "id": "gjOyM1EZO-KK",
        "colab": {
          "base_uri": "https://localhost:8080/"
        },
        "outputId": "305e2d93-c687-47b9-cae0-b31263d44ac0"
      },
      "outputs": [
        {
          "output_type": "execute_result",
          "data": {
            "text/plain": [
              "<enumerate at 0x7d8a53a80a40>"
            ]
          },
          "metadata": {},
          "execution_count": 34
        }
      ],
      "source": [
        "lista_de_textos = [\"hola\", \"como\", \"estas\", \"?\"]\n",
        "enumerate(lista_de_textos)"
      ]
    },
    {
      "cell_type": "code",
      "source": [
        "list(enumerate(lista_de_textos))"
      ],
      "metadata": {
        "id": "vVMgxx36Rt4d",
        "colab": {
          "base_uri": "https://localhost:8080/"
        },
        "outputId": "9a0ce9f5-148e-43a7-9738-ceaa7fded28a"
      },
      "execution_count": null,
      "outputs": [
        {
          "output_type": "execute_result",
          "data": {
            "text/plain": [
              "[(0, 'hola'), (1, 'como'), (2, 'estas'), (3, '?')]"
            ]
          },
          "metadata": {},
          "execution_count": 35
        }
      ]
    },
    {
      "cell_type": "markdown",
      "source": [
        "Podemos ver que al transformar el resultado de enumerate() en lista, nos imprime una lista de tuplas.\n",
        "\n",
        "Si prestamos atención a estas tuplas, vemos que en la primer posición tenemos el índice del elemento en la lista original, y en la segunda posición tenemos el valor del mismo.\n",
        "\n",
        "La pregunta es:\n",
        "\n",
        "***¿Para qué nos puede servir esto?***\n",
        "\n",
        "Es muy útil para iterar listas en un bucle for.\n",
        "\n",
        "Hasta la clase pasada, cuando iterábamos un bucle for hacíamos lo siguiente:\n",
        "\n"
      ],
      "metadata": {
        "id": "yYCtOmbsRv0M"
      }
    },
    {
      "cell_type": "code",
      "source": [
        "lista_de_textos"
      ],
      "metadata": {
        "id": "JJ6hI2wCpI-k"
      },
      "execution_count": null,
      "outputs": []
    },
    {
      "cell_type": "code",
      "source": [
        "for item in lista_de_textos:\n",
        "  print(item)"
      ],
      "metadata": {
        "id": "9dxixGBcRvGG"
      },
      "execution_count": null,
      "outputs": []
    },
    {
      "cell_type": "code",
      "source": [
        "list(enumerate(lista_de_textos))"
      ],
      "metadata": {
        "id": "S1Wd2aBJp5eD"
      },
      "execution_count": null,
      "outputs": []
    },
    {
      "cell_type": "code",
      "source": [
        "for indice, item in enumerate(lista_de_textos):\n",
        "  print(indice, item)"
      ],
      "metadata": {
        "id": "uXqg7-mCpO24"
      },
      "execution_count": null,
      "outputs": []
    },
    {
      "cell_type": "code",
      "source": [
        "n_pares, n_impares = (0,0)"
      ],
      "metadata": {
        "id": "SEOwdrIDqaR3"
      },
      "execution_count": null,
      "outputs": []
    },
    {
      "cell_type": "code",
      "source": [
        "mi_tupla = (10, 20, 30, 40, 50)\n",
        "\n",
        "a, b, c, d, e = mi_tupla\n",
        "print(a, b, c, d, e)"
      ],
      "metadata": {
        "id": "DgYIM7Hvpkeh"
      },
      "execution_count": null,
      "outputs": []
    },
    {
      "cell_type": "markdown",
      "source": [
        "Pero por diversos motivos, me puede interesar saber el índice del elemento al que estoy accediendo en cada iteración de mi bucle for.\n",
        "\n",
        "Antes de ver como utilizar enumerate() y un bucle for en conjunto debemos comprender algo nuevo. Cuando tenemos una tupla de N elementos, podemos \"desempaquetarla\" en N variables de la siguiente manera:"
      ],
      "metadata": {
        "id": "7rXRMv3ySxs4"
      }
    },
    {
      "cell_type": "code",
      "source": [
        "mi_tupla = (1,2,3,4)\n",
        "\n",
        "elem_1, elem_2, elem_3, elem_4 = mi_tupla\n",
        "\n",
        "print(elem_1)\n",
        "print(elem_2)\n",
        "print(elem_3)\n",
        "print(elem_4)"
      ],
      "metadata": {
        "id": "WTv-G6JmSxI1"
      },
      "execution_count": null,
      "outputs": []
    },
    {
      "cell_type": "markdown",
      "source": [
        "Si se fijan en la celda anterior, almacenamos cada elemento de la tupla en una variable separada.\n",
        "\n",
        "Ahora, conociendo este concepto, podemos combinar los resultados de enumerate() con un bucle for:"
      ],
      "metadata": {
        "id": "n_td2vDdTYyJ"
      }
    },
    {
      "cell_type": "code",
      "source": [
        "for index, elemento in enumerate(lista_de_textos):\n",
        "  print(f\"El índice es: {index} y el valor: {elemento}\")"
      ],
      "metadata": {
        "id": "wvbytySiTYMd"
      },
      "execution_count": null,
      "outputs": []
    },
    {
      "cell_type": "markdown",
      "source": [
        "Lo mismo aplica para tuplas:"
      ],
      "metadata": {
        "id": "HofCajL6TtdG"
      }
    },
    {
      "cell_type": "code",
      "source": [
        "for index, elemento in enumerate(mi_tupla):\n",
        "  print(f\"El índice es: {index} y el valor: {elemento}\")"
      ],
      "metadata": {
        "id": "8sK6VbRuTpW_"
      },
      "execution_count": null,
      "outputs": []
    },
    {
      "cell_type": "markdown",
      "source": [
        "La función enumerate es muy útil para iterar elementos de esta forma (cuando necesitamos acceder a el índice de el elemento).\n",
        "\n",
        "EJERCICIO:\n",
        "\n",
        "¿Se imaginan como podemos obtener los mismos resultados SIN utilizar enumerate?\n",
        "\n",
        "Completar con un ejemplo:"
      ],
      "metadata": {
        "id": "iTaEhQ1FTy_i"
      }
    },
    {
      "cell_type": "code",
      "source": [
        "# COMPLETAR\n",
        "\n",
        "lista = [\"hola\", \"chau\", \"buen dia\"]\n",
        "\n",
        "posicion = 0\n",
        "for palabra in lista:\n",
        "  print(posicion, palabra)\n",
        "  #posicion = posicion + 1\n",
        "  posicion += 1"
      ],
      "metadata": {
        "id": "hc3ymaFITwyw"
      },
      "execution_count": null,
      "outputs": []
    },
    {
      "cell_type": "code",
      "source": [],
      "metadata": {
        "id": "n8RYgvC4ml93"
      },
      "execution_count": null,
      "outputs": []
    },
    {
      "cell_type": "code",
      "source": [
        "for indice, palabra in enumerate(lista):\n",
        "  print(indice, palabra)"
      ],
      "metadata": {
        "id": "_M3c7RbSkmt_"
      },
      "execution_count": null,
      "outputs": []
    },
    {
      "cell_type": "markdown",
      "source": [
        "## range()\n",
        "\n",
        "En Python se utiliza `range()` para representar una secuencia inmutable de números.\n",
        "\n",
        "Uno de sus principales usos es junto a la sentencia for, para definir un bucle sobre el que se itera un número determinado de veces.\n",
        "\n",
        "Al utilizar `range()` tenemos distintas opciones:\n",
        "\n",
        "- `range(fin)`: Crea una secuencia numérica que va desde 0 hasta fin - 1.\n",
        "- `range(inicio, fin, [paso])`: Crea una secuencia numérica que va desde inicio hasta fin - 1. Si además se indica el parámetro paso, la secuencia genera los números de paso en paso.\n",
        "\n",
        "Veamos ejemplos:"
      ],
      "metadata": {
        "id": "f8hbZteSUQsh"
      }
    },
    {
      "cell_type": "code",
      "source": [
        "range(10)"
      ],
      "metadata": {
        "id": "NdHgOIY6OAzX"
      },
      "execution_count": null,
      "outputs": []
    },
    {
      "cell_type": "code",
      "source": [
        "list(range(10))"
      ],
      "metadata": {
        "id": "wT4RFjHdnca6"
      },
      "execution_count": null,
      "outputs": []
    },
    {
      "cell_type": "code",
      "source": [
        "for numero in range(10):\n",
        "  print(numero)"
      ],
      "metadata": {
        "id": "5HkszysEn3wt"
      },
      "execution_count": null,
      "outputs": []
    },
    {
      "cell_type": "markdown",
      "source": [
        "¿Cómo podemos utilizar esto en un bucle for?\n",
        "\n",
        "Escribir un ejemplo:"
      ],
      "metadata": {
        "id": "KfyI_XbjVFyo"
      }
    },
    {
      "cell_type": "code",
      "source": [
        "lista = [\"a\", \"b\", \"c\"]\n",
        "for i in range(len(lista)):\n",
        "  print(f\"La lista en la posicion {i} tiene el elemento: {lista[i]}\")"
      ],
      "metadata": {
        "id": "mPcLKIZjVA0F",
        "colab": {
          "base_uri": "https://localhost:8080/"
        },
        "outputId": "59b8a4fd-a061-4951-b221-92dbc172b1b6"
      },
      "execution_count": null,
      "outputs": [
        {
          "output_type": "stream",
          "name": "stdout",
          "text": [
            "La lista en la posicion 0 tiene el elemento: a\n",
            "La lista en la posicion 1 tiene el elemento: b\n",
            "La lista en la posicion 2 tiene el elemento: c\n"
          ]
        }
      ]
    },
    {
      "cell_type": "code",
      "source": [
        "# COMPLETAR"
      ],
      "metadata": {
        "id": "BG75VledPXgb"
      },
      "execution_count": null,
      "outputs": []
    },
    {
      "cell_type": "markdown",
      "source": [
        "Además nos puede servir si simplemente necesitamos crear una lista con una secuencia de números:"
      ],
      "metadata": {
        "id": "XrIm28snVI4e"
      }
    },
    {
      "cell_type": "code",
      "source": [
        "sec_1 = list(range(10))\n",
        "print(sec_1)"
      ],
      "metadata": {
        "id": "7kkRDEFbVIK_"
      },
      "execution_count": null,
      "outputs": []
    },
    {
      "cell_type": "code",
      "source": [
        "sec_2 = list(range(5, 10))\n",
        "print(sec_2)"
      ],
      "metadata": {
        "id": "_uHFuELLVSVW"
      },
      "execution_count": null,
      "outputs": []
    },
    {
      "cell_type": "code",
      "source": [
        "sec_3 = list(range(5, 20, 2))\n",
        "print(sec_3)"
      ],
      "metadata": {
        "id": "gDaBUgkAVVYu"
      },
      "execution_count": null,
      "outputs": []
    },
    {
      "cell_type": "markdown",
      "source": [
        "# Iterando diccionarios\n",
        "\n",
        "Para iterar sobre diccionarios (si necesitamos realizar una operación sobre cada uno de los elementos del mismo) tenemos diversas opciones.\n",
        "\n",
        "## Iterar sobre los valores\n",
        "\n",
        "La clase pasada vimos que para acceder a los valores de un diccionario simplemente usamos `diccionario.values()`.\n",
        "\n",
        "Entonces, ¿Cómo podemos iterar sobre los valores de un diccionario?"
      ],
      "metadata": {
        "id": "10FKK8EyVcZz"
      }
    },
    {
      "cell_type": "code",
      "source": [
        "mi_dict = {\n",
        "    \"clave_1\": 1,\n",
        "    \"clave_2\": 2,\n",
        "    \"clave_3\": 3\n",
        "}\n",
        "\n",
        "# ITERAR SOBRE LOS VALORES DEL DICCIONARIO\n",
        "# COMPLETAR"
      ],
      "metadata": {
        "id": "VEqJUVf0VX12"
      },
      "execution_count": null,
      "outputs": []
    },
    {
      "cell_type": "code",
      "source": [
        "mi_dict.values()"
      ],
      "metadata": {
        "id": "UKXP9DfkPstk"
      },
      "execution_count": null,
      "outputs": []
    },
    {
      "cell_type": "code",
      "source": [
        "mi_dict.keys()"
      ],
      "metadata": {
        "id": "fgxb7xZensPJ"
      },
      "execution_count": null,
      "outputs": []
    },
    {
      "cell_type": "code",
      "source": [
        "for value in mi_dict.values():\n",
        "  print(value)"
      ],
      "metadata": {
        "id": "-32-s7DhpjC3"
      },
      "execution_count": null,
      "outputs": []
    },
    {
      "cell_type": "code",
      "source": [
        "for key in mi_dict.keys():\n",
        "  print(key)"
      ],
      "metadata": {
        "id": "bSww7cYOmKix"
      },
      "execution_count": null,
      "outputs": []
    },
    {
      "cell_type": "code",
      "source": [
        "list(mi_dict.keys())"
      ],
      "metadata": {
        "id": "wYlSDEf8l8uW"
      },
      "execution_count": null,
      "outputs": []
    },
    {
      "cell_type": "code",
      "source": [
        "list(mi_dict.values())"
      ],
      "metadata": {
        "id": "kbLHp-8-l_RX"
      },
      "execution_count": null,
      "outputs": []
    },
    {
      "cell_type": "markdown",
      "source": [
        "## Iterar sobre las claves (keys)\n",
        "\n",
        "Basándonos en el ejemplo anterior, ¿Cómo iteraríamos sobre las `keys`?"
      ],
      "metadata": {
        "id": "qu8_UQ48V8FU"
      }
    },
    {
      "cell_type": "code",
      "source": [
        "# COMPLETAR"
      ],
      "metadata": {
        "id": "09hNiSFTV7Ip"
      },
      "execution_count": null,
      "outputs": []
    },
    {
      "cell_type": "markdown",
      "source": [
        "## Iterar sobre los pares clave-valor\n",
        "\n",
        "Finalmente, podemos iterar sobre los pares clave-valor de un diccionario utilizando el método: `.items()`\n",
        "\n",
        "Primero veamos que nos retorna `.items()`"
      ],
      "metadata": {
        "id": "pLtcFmzgWGJT"
      }
    },
    {
      "cell_type": "code",
      "source": [
        "mi_dict.items()\n",
        "list(mi_dict.items())"
      ],
      "metadata": {
        "id": "Uq0FMkbrWFc2",
        "colab": {
          "base_uri": "https://localhost:8080/"
        },
        "outputId": "494ec173-98e8-42f1-c0f4-fd7afe02e265"
      },
      "execution_count": null,
      "outputs": [
        {
          "output_type": "execute_result",
          "data": {
            "text/plain": [
              "[('clave_1', 1), ('clave_2', 2), ('clave_3', 3)]"
            ]
          },
          "metadata": {},
          "execution_count": 42
        }
      ]
    },
    {
      "cell_type": "code",
      "source": [
        "list(mi_dict.items())"
      ],
      "metadata": {
        "id": "gEGDUNn5WRcU",
        "colab": {
          "base_uri": "https://localhost:8080/"
        },
        "outputId": "6bd9746c-51f1-4329-ccca-70d4603b3f1e"
      },
      "execution_count": null,
      "outputs": [
        {
          "output_type": "execute_result",
          "data": {
            "text/plain": [
              "[('clave_1', 1), ('clave_2', 2), ('clave_3', 3)]"
            ]
          },
          "metadata": {},
          "execution_count": 39
        }
      ]
    },
    {
      "cell_type": "markdown",
      "source": [
        "¿De qué tipo de dato son los elementos de la lista anterior?\n",
        "\n",
        "¿Encuentran alguna similitud entre esta lista y algo que vimos hace un rato?\n",
        "\n",
        "Veamos como podemos iterar sobre los pares clave-valor utilizando el método `.items()`:"
      ],
      "metadata": {
        "id": "zkALbbz0WVBB"
      }
    },
    {
      "cell_type": "code",
      "source": [
        "for key, value in mi_dict.items():\n",
        "  print(f\"La clave es {key} y el valor es {value}\")"
      ],
      "metadata": {
        "id": "JaZOIRZ_WTxj"
      },
      "execution_count": null,
      "outputs": []
    },
    {
      "cell_type": "markdown",
      "source": [
        "Y si tengo un diccionario que adentro tiene más diccionarios, ¿Cómo puedo iterar esto?"
      ],
      "metadata": {
        "id": "ySAlCW9eXQWQ"
      }
    },
    {
      "cell_type": "code",
      "source": [
        "mi_dict_2 = {\n",
        "    \"clave_1\": {\n",
        "        \"clave_1_1\": \"1_1\",\n",
        "        \"clave_1_2\": {...}\n",
        "    },\n",
        "    \"clave_2\": {\n",
        "        \"clave_2_1\": \"2_1\",\n",
        "        \"clave_2_2\": \"2_2\"\n",
        "    },\n",
        "    \"clave_3\": {\n",
        "        \"clave_3_1\": \"3_1\",\n",
        "        \"clave_3_2\": \"3_2\"\n",
        "    }\n",
        "}"
      ],
      "metadata": {
        "id": "3MX3KL2rWoHz"
      },
      "execution_count": null,
      "outputs": []
    },
    {
      "cell_type": "code",
      "source": [
        "matriz = [[1,2,3],[4,5,6]]\n",
        "\n",
        "for i in matriz:\n",
        "  print(i)\n",
        "  for j in i:\n",
        "    print(j)"
      ],
      "metadata": {
        "id": "d6W5tIDmosSr"
      },
      "execution_count": null,
      "outputs": []
    },
    {
      "cell_type": "code",
      "source": [
        "mi_dict_2.values()"
      ],
      "metadata": {
        "id": "q_6zpRwZoU8n"
      },
      "execution_count": null,
      "outputs": []
    },
    {
      "cell_type": "code",
      "source": [
        "# Completar un ejemplo\n",
        "for value in mi_dict_2.values():\n",
        "  for values_2 in value.values():\n",
        "    print(values_2)"
      ],
      "metadata": {
        "id": "lXMsTpP0XiId"
      },
      "execution_count": null,
      "outputs": []
    },
    {
      "cell_type": "markdown",
      "source": [
        "# Funciones\n",
        "\n",
        "Vimos en la parte teórica que podemos definir nuestras propias funciones en python.\n",
        "\n",
        "Veamos un ejemplo de la estructura de una función:"
      ],
      "metadata": {
        "id": "7NKVjazAXoj3"
      }
    },
    {
      "cell_type": "code",
      "source": [
        "result = type(8)"
      ],
      "metadata": {
        "id": "hM1yPnXQiXKq"
      },
      "execution_count": null,
      "outputs": []
    },
    {
      "cell_type": "code",
      "source": [
        "result = print(\"hola\")"
      ],
      "metadata": {
        "id": "CH11qWUViww-",
        "colab": {
          "base_uri": "https://localhost:8080/"
        },
        "outputId": "51b357c2-706e-4b1b-8038-766140cd246c"
      },
      "execution_count": null,
      "outputs": [
        {
          "output_type": "stream",
          "name": "stdout",
          "text": [
            "hola\n"
          ]
        }
      ]
    },
    {
      "cell_type": "code",
      "source": [
        "result"
      ],
      "metadata": {
        "id": "4QDtrNUr8L5N"
      },
      "execution_count": null,
      "outputs": []
    },
    {
      "cell_type": "code",
      "source": [
        "lista = []\n",
        "lista.append(5)"
      ],
      "metadata": {
        "id": "WFAqi8cKiq2A"
      },
      "execution_count": null,
      "outputs": []
    },
    {
      "cell_type": "markdown",
      "source": [
        "- Pueden recibir 0 o N parámetros\n",
        "- Pueden retornar algo o no"
      ],
      "metadata": {
        "id": "jaQPz0-eijfL"
      }
    },
    {
      "cell_type": "code",
      "source": [
        "def nombre_de_mi_funcion(parametro_1, parametro_2):\n",
        "  suma = parametro_1 + (parametro_2 * 3)\n",
        "  return suma"
      ],
      "metadata": {
        "id": "-433EFSeXkBB"
      },
      "execution_count": null,
      "outputs": []
    },
    {
      "cell_type": "code",
      "source": [
        "def distancia_origin(x,y):\n",
        "  r = (x**2 + y**2)**(1/2)\n",
        "  return r"
      ],
      "metadata": {
        "id": "mTCMb2Zg9o9M"
      },
      "execution_count": null,
      "outputs": []
    },
    {
      "cell_type": "code",
      "source": [
        "distancia_origin(3,4)\n"
      ],
      "metadata": {
        "colab": {
          "base_uri": "https://localhost:8080/"
        },
        "id": "mCAQoEGN97LZ",
        "outputId": "18523bbb-a54c-4480-df4e-37c056561a91"
      },
      "execution_count": null,
      "outputs": [
        {
          "output_type": "execute_result",
          "data": {
            "text/plain": [
              "5.0"
            ]
          },
          "metadata": {},
          "execution_count": 17
        }
      ]
    },
    {
      "cell_type": "markdown",
      "source": [
        "Llamamos a nuestra función:"
      ],
      "metadata": {
        "id": "1PjeiNxkbOOv"
      }
    },
    {
      "cell_type": "code",
      "source": [
        "resultado = nombre_de_mi_funcion(1, 2)\n",
        "# suma = 1 + 2 * 3\n",
        "print(resultado)"
      ],
      "metadata": {
        "id": "yPp_NUBYbMn_"
      },
      "execution_count": null,
      "outputs": []
    },
    {
      "cell_type": "code",
      "source": [
        "resultado = nombre_de_mi_funcion(1, 231)\n",
        "print(resultado)"
      ],
      "metadata": {
        "id": "SClGJ4PUjULu"
      },
      "execution_count": null,
      "outputs": []
    },
    {
      "cell_type": "code",
      "source": [
        "resultado = nombre_de_mi_funcion(142, 2)\n",
        "print(resultado)"
      ],
      "metadata": {
        "id": "d8G87Pr_jUOF"
      },
      "execution_count": null,
      "outputs": []
    },
    {
      "cell_type": "code",
      "source": [
        "resultado = nombre_de_mi_funcion(112, 442)\n",
        "print(resultado)"
      ],
      "metadata": {
        "id": "5y0TLDa4jURb"
      },
      "execution_count": null,
      "outputs": []
    },
    {
      "cell_type": "markdown",
      "source": [
        "También podemos definir funciones que no retornen nada:"
      ],
      "metadata": {
        "id": "Son1JOFBcyuQ"
      }
    },
    {
      "cell_type": "code",
      "source": [
        "def nombre_de_mi_funcion(parametro_1, parametro_2):\n",
        "  print(parametro_1 + parametro_2)"
      ],
      "metadata": {
        "id": "cNo4bNDCbRXJ"
      },
      "execution_count": null,
      "outputs": []
    },
    {
      "cell_type": "code",
      "source": [
        "mi_variable = nombre_de_mi_funcion(1, 2)"
      ],
      "metadata": {
        "id": "jBYkk0Do12kl"
      },
      "execution_count": null,
      "outputs": []
    },
    {
      "cell_type": "code",
      "source": [
        "resultado = nombre_de_mi_funcion(1, 2)"
      ],
      "metadata": {
        "id": "UJrJGJeFc6lz"
      },
      "execution_count": null,
      "outputs": []
    },
    {
      "cell_type": "code",
      "source": [
        "print(resultado)"
      ],
      "metadata": {
        "id": "cxw74Uxac7Vi"
      },
      "execution_count": null,
      "outputs": []
    },
    {
      "cell_type": "markdown",
      "source": [
        "Y podemos hacer funciones que retornen varios elementos"
      ],
      "metadata": {
        "id": "8GvvNsJndK5i"
      }
    },
    {
      "cell_type": "code",
      "source": [
        "def nombre_de_mi_funcion(parametro_1, parametro_2):\n",
        "  return parametro_1, parametro_2"
      ],
      "metadata": {
        "id": "Cg3MZEGudIhq"
      },
      "execution_count": null,
      "outputs": []
    },
    {
      "cell_type": "code",
      "source": [
        "resultado = nombre_de_mi_funcion(1, 2)"
      ],
      "metadata": {
        "id": "6Lne0S6cdPD2"
      },
      "execution_count": null,
      "outputs": []
    },
    {
      "cell_type": "code",
      "source": [
        "resultado"
      ],
      "metadata": {
        "id": "NbdgEe3cdQSV"
      },
      "execution_count": null,
      "outputs": []
    },
    {
      "cell_type": "code",
      "source": [
        "type(resultado)"
      ],
      "metadata": {
        "id": "EZ2HTprydRMo"
      },
      "execution_count": null,
      "outputs": []
    },
    {
      "cell_type": "markdown",
      "source": [
        "Lo que nos retorna en este caso es una tupla.\n",
        "\n",
        "Algunas buenas prácticas a la hora de definir funciones en python:\n",
        "\n",
        "1. Docstrings: Una vez definida una función, es una buena práctica documentar como funciona la misma. Puede ser muy útil para otros programadores que vean o usen nuestras funciones más tarde."
      ],
      "metadata": {
        "id": "iSTV6UhkdSxj"
      }
    },
    {
      "cell_type": "code",
      "source": [
        "def suma(numero_1, numero_2):\n",
        "  \"\"\"\n",
        "  Descripción de la función\n",
        "\n",
        "  Parameters\n",
        "  ----------\n",
        "  parametro_1 : tipo\n",
        "      Descripción del parametro\n",
        "  parametro_2 : tipo\n",
        "      Descripción del parametro\n",
        "  Returns\n",
        "  -------\n",
        "  tipo\n",
        "      Descripción de los valores que devuelve\n",
        "  \"\"\"\n",
        "  return numero_1 + numero_2"
      ],
      "metadata": {
        "id": "0w9JD1BRWDnu"
      },
      "execution_count": null,
      "outputs": []
    },
    {
      "cell_type": "code",
      "source": [
        "help(suma)"
      ],
      "metadata": {
        "id": "bsQaFTolmV3N",
        "colab": {
          "base_uri": "https://localhost:8080/"
        },
        "outputId": "78f89e3e-fe13-4cca-dda3-75def130c3c7"
      },
      "execution_count": null,
      "outputs": [
        {
          "output_type": "stream",
          "name": "stdout",
          "text": [
            "Help on function suma in module __main__:\n",
            "\n",
            "suma(numero_1, numero_2)\n",
            "    Descripción de la función\n",
            "\n",
            "    Parameters\n",
            "    ----------\n",
            "    parametro_1 : tipo\n",
            "        Descripción del parametro\n",
            "    parametro_2 : tipo\n",
            "        Descripción del parametro\n",
            "    Returns\n",
            "    -------\n",
            "    tipo\n",
            "        Descripción de los valores que devuelve\n",
            "\n"
          ]
        }
      ]
    },
    {
      "cell_type": "code",
      "source": [
        "suma()"
      ],
      "metadata": {
        "id": "7iGifw0smQUC"
      },
      "execution_count": null,
      "outputs": []
    },
    {
      "cell_type": "markdown",
      "source": [
        "2. Especificar tipos de datos: Una de las características del lenguaje Python es que el tipado que usa es dinámico, es decir, permite que una variable pueda cambiar su tipo durante la ejecución de un programa. La razón es que los tipos dependen del valor que tenga asignado dicha variable en un momento dado, no de una propiedad de la variable en sí."
      ],
      "metadata": {
        "id": "ThyS9GFVWVrH"
      }
    },
    {
      "cell_type": "code",
      "source": [
        "def suma(numero_1: int, numero_2:int, palabra: str, lista: list, diccionario:dict) -> int:\n",
        "  return numero_1 + numero_2"
      ],
      "metadata": {
        "id": "LHXijoYXWUz1"
      },
      "execution_count": null,
      "outputs": []
    },
    {
      "cell_type": "markdown",
      "source": [
        "3. Nombres de variables y funciones que tengan sentido: Siempre intentar definir nombres a las variables que estén relacionados a su uso.\n"
      ],
      "metadata": {
        "id": "HxIpwP_jW5z-"
      }
    },
    {
      "cell_type": "markdown",
      "source": [
        "# List comprehension\n",
        "\n",
        "Es una forma más simple de iterar listas.\n",
        "\n",
        "Veamos un ejemplo. Podemos iterar una lista como ya sabemos:"
      ],
      "metadata": {
        "id": "8IrpNA9raZWo"
      }
    },
    {
      "cell_type": "code",
      "source": [
        "mi_lista = [1,2,3,4,5]\n",
        "\n",
        "nueva_lista = []\n",
        "\n",
        "for item in mi_lista:\n",
        "  nueva_lista.append(item*10)\n",
        "\n",
        "nueva_lista"
      ],
      "metadata": {
        "id": "cWmksr6pbLo1",
        "colab": {
          "base_uri": "https://localhost:8080/"
        },
        "outputId": "645db3fc-ed35-4f4b-9a3a-e672e576f958"
      },
      "execution_count": null,
      "outputs": [
        {
          "output_type": "execute_result",
          "data": {
            "text/plain": [
              "[10, 20, 30, 40, 50]"
            ]
          },
          "metadata": {},
          "execution_count": 21
        }
      ]
    },
    {
      "cell_type": "markdown",
      "source": [
        "O hacer lo mismo en 1 linea de código"
      ],
      "metadata": {
        "id": "jILhAIsnbWN5"
      }
    },
    {
      "cell_type": "code",
      "source": [
        "nueva_lista_2 = [item * 10 for item in mi_lista]\n",
        "nueva_lista_2"
      ],
      "metadata": {
        "id": "tEHitHvkbes2",
        "colab": {
          "base_uri": "https://localhost:8080/"
        },
        "outputId": "6a1cf55e-4e1d-4985-c599-3233c1ff2e24"
      },
      "execution_count": null,
      "outputs": [
        {
          "output_type": "execute_result",
          "data": {
            "text/plain": [
              "[10, 20, 30, 40, 50]"
            ]
          },
          "metadata": {},
          "execution_count": 22
        }
      ]
    },
    {
      "cell_type": "markdown",
      "source": [
        "Otro ejemplo:"
      ],
      "metadata": {
        "id": "HXGxSMA5cS-1"
      }
    },
    {
      "cell_type": "code",
      "source": [
        "nueva_lista = [10, 30, 50]"
      ],
      "metadata": {
        "id": "KUtRLjdQnh_k"
      },
      "execution_count": null,
      "outputs": []
    },
    {
      "cell_type": "code",
      "source": [
        "lista_de_tuplas = [(10,20),(30,40), (50,60)]\n",
        "\n",
        "nueva_lista_3 = [item[0] for item in lista_de_tuplas]\n",
        "nueva_lista_3"
      ],
      "metadata": {
        "id": "uZJdG9TNcVwi",
        "colab": {
          "base_uri": "https://localhost:8080/"
        },
        "outputId": "8a017f8c-47f5-4a86-cf3c-34865d2150f3"
      },
      "execution_count": null,
      "outputs": [
        {
          "output_type": "execute_result",
          "data": {
            "text/plain": [
              "[10, 30, 50]"
            ]
          },
          "metadata": {},
          "execution_count": 24
        }
      ]
    },
    {
      "cell_type": "markdown",
      "source": [
        "# EJERCICIOS\n",
        "\n",
        "1. Dado el siguiente diccionario:"
      ],
      "metadata": {
        "id": "TpwX0ZxuaYoB"
      }
    },
    {
      "cell_type": "code",
      "source": [
        "rectangulos = {\n",
        "    \"rectangulo_1\": {\n",
        "        \"base\": 100,\n",
        "        \"altura\": 10\n",
        "    },\n",
        "    \"rectangulo_2\": {\n",
        "        \"base\": 20,\n",
        "        \"altura\": 5\n",
        "    },\n",
        "    \"rectangulo_3\": {\n",
        "        \"base\": 5,\n",
        "        \"altura\": 10\n",
        "    },\n",
        "    \"rectangulo_4\": {\n",
        "        \"base\": 3,\n",
        "        \"altura\": 100\n",
        "    },\n",
        "}"
      ],
      "metadata": {
        "id": "1W0lGwhRW4uA"
      },
      "execution_count": null,
      "outputs": []
    },
    {
      "cell_type": "markdown",
      "source": [
        "Definir una función en python llamada calcular_areas que reciba como parámetro el diccionario definido anteriormente y retorne otro diccionario que tenga la forma:\n",
        "\n",
        "```\n",
        "{\n",
        "  \"rectangulo_1\": <area_rectangulo_1>(float),\n",
        "  ...\n",
        "  \"rectangulo_n\": <area_rectangulo_n>(float)\n",
        "}\n",
        "```\n",
        "\n"
      ],
      "metadata": {
        "id": "53DW_YRkYA6N"
      }
    },
    {
      "cell_type": "code",
      "source": [
        "# COMPLETAR\n",
        "def calcular_areas(dict_rec):\n",
        "  areas_calculadas = {}\n",
        "  for rec, dimensions in dict_rec.items():\n",
        "    base = dimensions[\"base\"]\n",
        "    altura = dimensions[\"altura\"]\n",
        "    area = base * altura\n",
        "    areas_calculadas[rec] = area\n",
        "  return areas_calculadas\n"
      ],
      "metadata": {
        "id": "zTlRsxCXYAZq"
      },
      "execution_count": null,
      "outputs": []
    },
    {
      "cell_type": "markdown",
      "source": [
        "La siguiente celda les sirve para validar su código (no editarla). Una vez que hayan definido su función, la corren. Si hay algún error en su función, va a saltar en esta celda. Si no, la celda correrá bien."
      ],
      "metadata": {
        "id": "fC58C73HaIN8"
      }
    },
    {
      "cell_type": "code",
      "source": [
        "expected_result = {'rectangulo_1': 1000,\n",
        " 'rectangulo_2': 100,\n",
        " 'rectangulo_3': 50,\n",
        " 'rectangulo_4': 300}\n",
        "\n",
        "assert expected_result == calcular_areas(rectangulos)"
      ],
      "metadata": {
        "id": "1XsturdxY-iF"
      },
      "execution_count": null,
      "outputs": []
    },
    {
      "cell_type": "markdown",
      "source": [
        "2. Dada la siguiente lista de emails:"
      ],
      "metadata": {
        "id": "NoezSOCtaT27"
      }
    },
    {
      "cell_type": "code",
      "source": [
        "emails = [\"hola@gmail.com\", \"fede@gmail.com\", \"email\", \"prueba@hotmail\", \"test\"]"
      ],
      "metadata": {
        "id": "h9l5K8dDc1XS"
      },
      "execution_count": null,
      "outputs": []
    },
    {
      "cell_type": "markdown",
      "source": [
        "Escribir una función que retorne un listado de emails válidos (descartando los inválidos).\n",
        "\n",
        "Un mail será válido si:\n",
        "- Contiene un @\n",
        "- Termina en \".com\""
      ],
      "metadata": {
        "id": "MwPtMDMhdAGy"
      }
    },
    {
      "cell_type": "markdown",
      "source": [
        "3. Escribir una función que, dado un número de DNI, retorne True si el número es válido y False si no lo es. Para que un número de DNI sea válido debe tener entre 7 y 8 dígitos.\n",
        "\n",
        "Pista: ¿Cómo veo el largo de un string?"
      ],
      "metadata": {
        "id": "xx_1MzcVdLYO"
      }
    },
    {
      "cell_type": "code",
      "source": [
        "# COMPLETAR"
      ],
      "metadata": {
        "id": "peY_7m9ngFgi"
      },
      "execution_count": null,
      "outputs": []
    },
    {
      "cell_type": "markdown",
      "source": [
        "4. Utilizando la función anterior, dado el siguiente listado de DNIs, quiero obtener una lista que tenga únicamente los DNIs válidos.\n",
        "\n",
        "Restricción: Deben resolverlo utilizando list comprehension. Para esto investigar:\n",
        "\n",
        "- ¿Cómo usamos un \"if\" dentro de list comprehension?"
      ],
      "metadata": {
        "id": "NJzncUsvgLGX"
      }
    },
    {
      "cell_type": "code",
      "source": [
        "# COMPLETAR"
      ],
      "metadata": {
        "id": "DrJ86KBPgGkV"
      },
      "execution_count": null,
      "outputs": []
    }
  ]
}