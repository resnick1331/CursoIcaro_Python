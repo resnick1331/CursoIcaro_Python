{
  "cells": [
    {
      "cell_type": "markdown",
      "metadata": {
        "id": "view-in-github",
        "colab_type": "text"
      },
      "source": [
        "<a href=\"https://colab.research.google.com/github/resnick1331/CursoIcaro_Python/blob/main/Copy_of_Clase_4_Python_%7C_ICARO_0525.ipynb\" target=\"_parent\"><img src=\"https://colab.research.google.com/assets/colab-badge.svg\" alt=\"Open In Colab\"/></a>"
      ]
    },
    {
      "cell_type": "markdown",
      "source": [
        "# Python - ICARO\n",
        "_________________________________\n",
        "Clase: 04  \n",
        "Tema: Funciones y numpy\n",
        "  \n",
        "  \n",
        "_________________________________\n"
      ],
      "metadata": {
        "id": "9A8FqxyxFizx"
      }
    },
    {
      "cell_type": "markdown",
      "metadata": {
        "id": "cJn48aX4uGvf"
      },
      "source": [
        "# Funciones\n",
        "\n",
        "Repasamos el concepto e implementación de las funciones. Son un elemento fundamental en toda disciplina asociada a la prorgramación.  \n",
        "\n",
        "Una función en python se define de la siguiente manera:\n",
        "\n",
        "\n",
        "```\n",
        "def nombre_de_la_función(parametro1, parametro2):\n",
        "  ...\n",
        "  bloque de código\n",
        "  ...\n",
        "  return algunValor # Opcional\n",
        "```\n",
        "\n",
        "Una función:   \n",
        "* recibie 0 o tantos parámetros de entrada como necesitemos   \n",
        "* ejecuta código definido en su interior de forma equivalente al resto de nuestras celdas.   \n",
        "* opcionalmente, puede además retornar algún valor   \n",
        "\n",
        "Para llamarla simplemente escribimos su nombre y le pasamos los parámetros que necesite (si es que necesita). Además, al terminar de ejecutarse \"devuelve\" algún valor en la línea que la llamó.  \n",
        "\n",
        "Veamos algunos ejemplos:"
      ]
    },
    {
      "cell_type": "code",
      "execution_count": null,
      "metadata": {
        "id": "G4l0o_btuFrE"
      },
      "outputs": [],
      "source": [
        "# Función que no recibe parámetros y no retorna ningún valor. En su interior,\n",
        "# ejecuta una única línea. Llama a la función \"print\", que muestra en pantalla\n",
        "# el texto entre paréntesis\n",
        "\n",
        "def nuestra_funcion():\n",
        "  print(\"Nuestra primer funcion que no retorna nada y simplemente imprime un mensaje\")"
      ]
    },
    {
      "cell_type": "code",
      "source": [
        "nuestra_funcion()"
      ],
      "metadata": {
        "id": "LUYdRnv77JVx"
      },
      "execution_count": null,
      "outputs": []
    },
    {
      "cell_type": "code",
      "execution_count": null,
      "metadata": {
        "id": "2dwBbbg7vh9U"
      },
      "outputs": [],
      "source": [
        "# Función que recibe parámetros pero no retorna ningún valor\n",
        "\n",
        "def otra_funcion(parametro):\n",
        "  print(f\"el parametro toma el valor: {parametro}\")\n",
        "\n",
        "otra_funcion(\"un valor\")\n",
        "otra_funcion(5)\n",
        "otra_funcion([1,2,3])"
      ]
    },
    {
      "cell_type": "code",
      "execution_count": null,
      "metadata": {
        "id": "LOAOvW27vzNa"
      },
      "outputs": [],
      "source": [
        "# Función que recibe parámetros y retorna un valor\n",
        "def suma(a, b):\n",
        "    return a+b"
      ]
    },
    {
      "cell_type": "code",
      "execution_count": null,
      "metadata": {
        "id": "wdS5k5bwv5RJ"
      },
      "outputs": [],
      "source": [
        "c = suma(5, 6)\n",
        "print(c)"
      ]
    },
    {
      "cell_type": "markdown",
      "metadata": {
        "id": "p_ytekGUwBli"
      },
      "source": [
        "##### Docstrings\n",
        "\n",
        "Es una muy buena práctica, documentar lo que hacemos. Muchas veces otras personas van a ver nuestro código, nuestros análisis en notebooks, etc. No es simple ver el código de otra persona cuando no hay ningún comentario ni explicación.\n",
        "\n",
        "Tenemos que acostumbrarnos desde ahora a comentar bien las funciones que hacemos y aprovechar las celdas de texto para explicar lo que vamos haciendo.\n",
        "\n",
        "En python, una forma de describir lo que hace una función es usando \"docstings\". Esto es, una descripción que se pone entre 3 comillas \"\"\" al principio de la funcion. Por ejemplo:"
      ]
    },
    {
      "cell_type": "code",
      "execution_count": null,
      "metadata": {
        "id": "xW1bCpTNwnfc"
      },
      "outputs": [],
      "source": [
        "def suma(a, b):\n",
        "  \"\"\"\n",
        "  Esta funcion retorna la suma de los valores de a y b.\n",
        "  Params:\n",
        "  - a: número a (int)\n",
        "  - b: número b (int)\n",
        "  \"\"\"\n",
        "  return a + b"
      ]
    },
    {
      "cell_type": "markdown",
      "metadata": {
        "id": "UKx76sJvw1CV"
      },
      "source": [
        "Otra buena práctica, es especificar el tipo de dato que esperamos que reciba una función y el tipo de dato que devuelve. Esto se hace de la siguiente forma:"
      ]
    },
    {
      "cell_type": "code",
      "execution_count": null,
      "metadata": {
        "id": "TEFPbnuVw74h"
      },
      "outputs": [],
      "source": [
        "# type hint\n",
        "def suma(a: int = 5, b: int = 6) -> int:\n",
        "  \"\"\"\n",
        "  Esta funcion retorna la suma de los valores de a y b.\n",
        "  Params:\n",
        "  - a: número a (int)\n",
        "  - b: número b (int)\n",
        "  \"\"\"\n",
        "  return a + b"
      ]
    },
    {
      "cell_type": "markdown",
      "metadata": {
        "id": "ys2vLUNqzsrc"
      },
      "source": [
        "Además, cuando definimos una función con docstings, al utilizar la funcion `help`de python, ¡ese docstring se imprime y puede ser muy util para otra persona que quiera usar nuestra función! También puedes probar este comando con cualquier otra función que utilices."
      ]
    },
    {
      "cell_type": "code",
      "execution_count": null,
      "metadata": {
        "id": "UxJ4lpQwzfKM"
      },
      "outputs": [],
      "source": [
        "help(suma)"
      ]
    },
    {
      "cell_type": "markdown",
      "metadata": {
        "id": "sT0wn2aju550"
      },
      "source": [
        "Parametros por defecto"
      ]
    },
    {
      "cell_type": "code",
      "execution_count": null,
      "metadata": {
        "id": "k-mKgXUZu71H"
      },
      "outputs": [],
      "source": [
        "def resta(a=None, b=None):\n",
        "    if a == None or b == None:\n",
        "        print(\"Error, debes enviar dos números a la función\")\n",
        "        return   # indicamos el final de la función aunque no devuelva nada\n",
        "    else:\n",
        "      return a-b\n",
        "\n",
        "#resta()"
      ]
    },
    {
      "cell_type": "code",
      "execution_count": null,
      "metadata": {
        "id": "rFCo7WZT5Cyq"
      },
      "outputs": [],
      "source": [
        "resta(5, 6)"
      ]
    },
    {
      "cell_type": "markdown",
      "metadata": {
        "id": "TZTRD5BPuO7_"
      },
      "source": [
        "# Ejercicios\n",
        "\n",
        "1) Realiza una función llamada `relacion(a, b)` que a partir de dos números cumpla lo siguiente:\n",
        "\n",
        "Si el primer número es mayor que el segundo, debe devolver 1.\n",
        "Si el primer número es menor que el segundo, debe devolver -1.\n",
        "Si ambos números son iguales, debe devolver un 0.\n",
        "\n",
        "\n",
        "2) Realiza una función `separar(lista)` que tome una lista de números enteros y devuelva dos listas ordenadas. La primera con los números pares y la segunda con los números impares.\n",
        "\n"
      ]
    },
    {
      "cell_type": "markdown",
      "metadata": {
        "id": "nFr1UJO_sNVs"
      },
      "source": [
        "# Numpy\n",
        "\n",
        "Recuerden que siempre pueden tener la documentación a mano cuando necesitan algo: https://numpy.org/doc/stable/\n",
        "\n",
        "En esta clase vamos a empezar a aprender las principales funcionalidades que nos brinda numpy.\n",
        "\n",
        "Lo primero que tenemos que hacer para usar una librería, es instalarla. Esto la disponibiliza en el sistema en que estemos corriendo nuestro código. En python, las librerías se pueden instalar con el comando `pip install NombreDeLaLibreria`. Siempre en la documentación de una librería nos van a explicar como instalarla.\n",
        "\n",
        "Si usamos Google Colab, numpy ya viene instalado; lo hizo Google en sus servidores por nosotros. Si no, en un entorno local u otro, debemos correr el siguiente comando:"
      ]
    },
    {
      "cell_type": "code",
      "source": [
        "pip install numpy"
      ],
      "metadata": {
        "id": "tthA8PSUrhNj",
        "colab": {
          "base_uri": "https://localhost:8080/"
        },
        "outputId": "57fd3b56-93c4-4dc2-ef98-09e27a8dd2ee"
      },
      "execution_count": null,
      "outputs": [
        {
          "output_type": "stream",
          "name": "stdout",
          "text": [
            "Requirement already satisfied: numpy in /usr/local/lib/python3.12/dist-packages (2.0.2)\n"
          ]
        }
      ]
    },
    {
      "cell_type": "code",
      "execution_count": null,
      "metadata": {
        "id": "LkkiEMGStN5n"
      },
      "outputs": [],
      "source": [
        "!pip install numpy"
      ]
    },
    {
      "cell_type": "markdown",
      "metadata": {
        "id": "YhBSvAbFtQu7"
      },
      "source": [
        "Vemos que dice: Requirement already satisfied: numpy in /usr/local/lib/python3.7/dist-packages (version)\n",
        "\n",
        "Esto quiere decir que ya estaba instalada desde antes.\n",
        "\n",
        "Una vez que instalada, tenemos que importarla. Es decir, además de estar disponible en nuestro sistema tenemos que avisar a la notebook o el entorno de ejecución que la vamos a usar en este programa. En python, esto se hace de la siguiente manera:"
      ]
    },
    {
      "cell_type": "code",
      "execution_count": null,
      "metadata": {
        "id": "NwC9Q3LvtPP1"
      },
      "outputs": [],
      "source": [
        "import numpy as np"
      ]
    },
    {
      "cell_type": "markdown",
      "metadata": {
        "id": "7veZ6OtRthYa"
      },
      "source": [
        "La parte que dice `as np` se denomina alias. Esto es para que cuando querramos llamar a la librería, no tengamos que poner su nombre completo y podamos llamarla simplemente con el alias `np`. En adelante, cuando veas funciones o elementos precedidos por `np`, sabrás que estamos accediendo a código incluído en la librería.\n",
        "\n",
        "## Numpy array\n",
        "\n",
        "El elemento principal de numpy es el numpy array. Para crear uno hay varias formas, una de ellas es pasándo una lista como parámetro:"
      ]
    },
    {
      "cell_type": "code",
      "execution_count": null,
      "metadata": {
        "id": "OmLD3uMltgsH",
        "colab": {
          "base_uri": "https://localhost:8080/"
        },
        "outputId": "4f47e6e2-14ca-45bb-fdd6-c37eba104c4e"
      },
      "outputs": [
        {
          "output_type": "stream",
          "name": "stdout",
          "text": [
            "[1, 2, 3, 4]\n",
            "[1 2 3 4]\n"
          ]
        }
      ],
      "source": [
        "lista = [1,2,3,4]\n",
        "numpy_array = np.array(lista)\n",
        "print(lista)\n",
        "print(numpy_array)"
      ]
    },
    {
      "cell_type": "markdown",
      "metadata": {
        "id": "f1LsFswMzJs2"
      },
      "source": [
        "En este caso, en el que el array esta compuesto por un rango de números en forma ascendente, numpy nos brinda formas más rapidas de crear un array:"
      ]
    },
    {
      "cell_type": "code",
      "execution_count": null,
      "metadata": {
        "id": "fPjLxuSSzH7X",
        "colab": {
          "base_uri": "https://localhost:8080/"
        },
        "outputId": "cb5de355-d639-4866-81f3-598702ff11ac"
      },
      "outputs": [
        {
          "output_type": "stream",
          "name": "stdout",
          "text": [
            "[0 1 2 3 4]\n"
          ]
        }
      ],
      "source": [
        "np.arange(4)\n",
        "print(np.arange(5))"
      ]
    },
    {
      "cell_type": "markdown",
      "metadata": {
        "id": "56U0CwSfzbOx"
      },
      "source": [
        "Este array empieza desde 0, nuestra lista anterior arrancaba desde 1. ¿ Cómo podremos hacer que el array arranque desde 1 ?\n",
        "Para responder preguntas de este tipo, la documentación y el comando help() son muy útiles.\n",
        "\n",
        "Veamos que dice el comando help:"
      ]
    },
    {
      "cell_type": "code",
      "source": [
        "help(np.arange)"
      ],
      "metadata": {
        "id": "rhl1X6z-tq7x",
        "colab": {
          "base_uri": "https://localhost:8080/"
        },
        "outputId": "6739a7b5-10d2-46f7-89ab-70d3c65a8c77"
      },
      "execution_count": null,
      "outputs": [
        {
          "output_type": "stream",
          "name": "stdout",
          "text": [
            "Help on built-in function arange in module numpy:\n",
            "\n",
            "arange(...)\n",
            "    arange([start,] stop[, step,], dtype=None, *, device=None, like=None)\n",
            "\n",
            "    Return evenly spaced values within a given interval.\n",
            "\n",
            "    ``arange`` can be called with a varying number of positional arguments:\n",
            "\n",
            "    * ``arange(stop)``: Values are generated within the half-open interval\n",
            "      ``[0, stop)`` (in other words, the interval including `start` but\n",
            "      excluding `stop`).\n",
            "    * ``arange(start, stop)``: Values are generated within the half-open\n",
            "      interval ``[start, stop)``.\n",
            "    * ``arange(start, stop, step)`` Values are generated within the half-open\n",
            "      interval ``[start, stop)``, with spacing between values given by\n",
            "      ``step``.\n",
            "\n",
            "    For integer arguments the function is roughly equivalent to the Python\n",
            "    built-in :py:class:`range`, but returns an ndarray rather than a ``range``\n",
            "    instance.\n",
            "\n",
            "    When using a non-integer step, such as 0.1, it is often better to use\n",
            "    `numpy.linspace`.\n",
            "\n",
            "    See the Warning sections below for more information.\n",
            "\n",
            "    Parameters\n",
            "    ----------\n",
            "    start : integer or real, optional\n",
            "        Start of interval.  The interval includes this value.  The default\n",
            "        start value is 0.\n",
            "    stop : integer or real\n",
            "        End of interval.  The interval does not include this value, except\n",
            "        in some cases where `step` is not an integer and floating point\n",
            "        round-off affects the length of `out`.\n",
            "    step : integer or real, optional\n",
            "        Spacing between values.  For any output `out`, this is the distance\n",
            "        between two adjacent values, ``out[i+1] - out[i]``.  The default\n",
            "        step size is 1.  If `step` is specified as a position argument,\n",
            "        `start` must also be given.\n",
            "    dtype : dtype, optional\n",
            "        The type of the output array.  If `dtype` is not given, infer the data\n",
            "        type from the other input arguments.\n",
            "    device : str, optional\n",
            "        The device on which to place the created array. Default: None.\n",
            "        For Array-API interoperability only, so must be ``\"cpu\"`` if passed.\n",
            "\n",
            "        .. versionadded:: 2.0.0\n",
            "    like : array_like, optional\n",
            "        Reference object to allow the creation of arrays which are not\n",
            "        NumPy arrays. If an array-like passed in as ``like`` supports\n",
            "        the ``__array_function__`` protocol, the result will be defined\n",
            "        by it. In this case, it ensures the creation of an array object\n",
            "        compatible with that passed in via this argument.\n",
            "\n",
            "        .. versionadded:: 1.20.0\n",
            "\n",
            "    Returns\n",
            "    -------\n",
            "    arange : ndarray\n",
            "        Array of evenly spaced values.\n",
            "\n",
            "        For floating point arguments, the length of the result is\n",
            "        ``ceil((stop - start)/step)``.  Because of floating point overflow,\n",
            "        this rule may result in the last element of `out` being greater\n",
            "        than `stop`.\n",
            "\n",
            "    Warnings\n",
            "    --------\n",
            "    The length of the output might not be numerically stable.\n",
            "\n",
            "    Another stability issue is due to the internal implementation of\n",
            "    `numpy.arange`.\n",
            "    The actual step value used to populate the array is\n",
            "    ``dtype(start + step) - dtype(start)`` and not `step`. Precision loss\n",
            "    can occur here, due to casting or due to using floating points when\n",
            "    `start` is much larger than `step`. This can lead to unexpected\n",
            "    behaviour. For example::\n",
            "\n",
            "      >>> np.arange(0, 5, 0.5, dtype=int)\n",
            "      array([0, 0, 0, 0, 0, 0, 0, 0, 0, 0])\n",
            "      >>> np.arange(-3, 3, 0.5, dtype=int)\n",
            "      array([-3, -2, -1,  0,  1,  2,  3,  4,  5,  6,  7,  8])\n",
            "\n",
            "    In such cases, the use of `numpy.linspace` should be preferred.\n",
            "\n",
            "    The built-in :py:class:`range` generates :std:doc:`Python built-in integers\n",
            "    that have arbitrary size <python:c-api/long>`, while `numpy.arange`\n",
            "    produces `numpy.int32` or `numpy.int64` numbers. This may result in\n",
            "    incorrect results for large integer values::\n",
            "\n",
            "      >>> power = 40\n",
            "      >>> modulo = 10000\n",
            "      >>> x1 = [(n ** power) % modulo for n in range(8)]\n",
            "      >>> x2 = [(n ** power) % modulo for n in np.arange(8)]\n",
            "      >>> print(x1)\n",
            "      [0, 1, 7776, 8801, 6176, 625, 6576, 4001]  # correct\n",
            "      >>> print(x2)\n",
            "      [0, 1, 7776, 7185, 0, 5969, 4816, 3361]  # incorrect\n",
            "\n",
            "    See Also\n",
            "    --------\n",
            "    numpy.linspace : Evenly spaced numbers with careful handling of endpoints.\n",
            "    numpy.ogrid: Arrays of evenly spaced numbers in N-dimensions.\n",
            "    numpy.mgrid: Grid-shaped arrays of evenly spaced numbers in N-dimensions.\n",
            "    :ref:`how-to-partition`\n",
            "\n",
            "    Examples\n",
            "    --------\n",
            "    >>> np.arange(3)\n",
            "    array([0, 1, 2])\n",
            "    >>> np.arange(3.0)\n",
            "    array([ 0.,  1.,  2.])\n",
            "    >>> np.arange(3,7)\n",
            "    array([3, 4, 5, 6])\n",
            "    >>> np.arange(3,7,2)\n",
            "    array([3, 5])\n",
            "\n"
          ]
        }
      ]
    },
    {
      "cell_type": "markdown",
      "metadata": {
        "id": "mLdwZast0LF-"
      },
      "source": [
        "Ahora, tratemos de generar un array de 6 elementos que arranque desde el valor 0!"
      ]
    },
    {
      "cell_type": "code",
      "execution_count": null,
      "metadata": {
        "id": "rFBMtZhHz5r3",
        "colab": {
          "base_uri": "https://localhost:8080/"
        },
        "outputId": "32d63905-b200-49be-b24f-649aecff4ae7"
      },
      "outputs": [
        {
          "output_type": "stream",
          "name": "stdout",
          "text": [
            "[0 1 2 3 4 5]\n"
          ]
        }
      ],
      "source": [
        "nuevo_array = np.arange(6) # COMPLETAR\n",
        "print(nuevo_array)"
      ]
    },
    {
      "cell_type": "markdown",
      "metadata": {
        "id": "OYYh1nP-08La"
      },
      "source": [
        "### Operaciones sobre listas y arrays de numpy"
      ]
    },
    {
      "cell_type": "markdown",
      "metadata": {
        "id": "jCOjoam_0hzF"
      },
      "source": [
        "Otra funcionalidad muy útil que nos provee numpy, es la posibilidad de realizar una operación matemática sobre cada elemento de la lista de una forma muy simple.\n",
        "\n",
        "Si queremos hacer esto con una lista común de python, vamos a necesitar iterar sobre cada elemento (con un for). Numpy nos ahorra ese paso:"
      ]
    },
    {
      "cell_type": "code",
      "execution_count": null,
      "metadata": {
        "id": "IrKN4glp0ez6",
        "scrolled": true,
        "colab": {
          "base_uri": "https://localhost:8080/",
          "height": 176
        },
        "outputId": "6e93dbc8-b8aa-4a88-a800-6d4f4b5a4759"
      },
      "outputs": [
        {
          "output_type": "error",
          "ename": "TypeError",
          "evalue": "can only concatenate list (not \"int\") to list",
          "traceback": [
            "\u001b[0;31m---------------------------------------------------------------------------\u001b[0m",
            "\u001b[0;31mTypeError\u001b[0m                                 Traceback (most recent call last)",
            "\u001b[0;32m/tmp/ipython-input-3663811060.py\u001b[0m in \u001b[0;36m<cell line: 0>\u001b[0;34m()\u001b[0m\n\u001b[1;32m      1\u001b[0m \u001b[0;31m# Al hacerlo sobre una lista, vamos a obtener un error:\u001b[0m\u001b[0;34m\u001b[0m\u001b[0;34m\u001b[0m\u001b[0m\n\u001b[1;32m      2\u001b[0m \u001b[0;34m\u001b[0m\u001b[0m\n\u001b[0;32m----> 3\u001b[0;31m \u001b[0;34m[\u001b[0m\u001b[0;36m1\u001b[0m\u001b[0;34m,\u001b[0m\u001b[0;36m2\u001b[0m\u001b[0;34m,\u001b[0m\u001b[0;36m3\u001b[0m\u001b[0;34m]\u001b[0m \u001b[0;34m+\u001b[0m \u001b[0;36m1\u001b[0m\u001b[0;34m\u001b[0m\u001b[0;34m\u001b[0m\u001b[0m\n\u001b[0m",
            "\u001b[0;31mTypeError\u001b[0m: can only concatenate list (not \"int\") to list"
          ]
        }
      ],
      "source": [
        "# Al hacerlo sobre una lista, vamos a obtener un error:\n",
        "\n",
        "[1,2,3] + 1"
      ]
    },
    {
      "cell_type": "code",
      "execution_count": null,
      "metadata": {
        "id": "MjjzQUNx5Cyu",
        "colab": {
          "base_uri": "https://localhost:8080/"
        },
        "outputId": "3e297d7f-2da2-410c-e961-c8dde167e076"
      },
      "outputs": [
        {
          "output_type": "execute_result",
          "data": {
            "text/plain": [
              "[2, 3, 4, 5, 6, 7]"
            ]
          },
          "metadata": {},
          "execution_count": 14
        }
      ],
      "source": [
        "l = [1,2,3,4,5,6]\n",
        "l_sum = []\n",
        "for elem in l:\n",
        "    elemento = elem + 1\n",
        "    l_sum.append(elemento)\n",
        "l_sum"
      ]
    },
    {
      "cell_type": "code",
      "execution_count": null,
      "metadata": {
        "id": "cnkH7L4RCXR2",
        "colab": {
          "base_uri": "https://localhost:8080/"
        },
        "outputId": "55b4d0b2-afc8-485a-eb13-c1575885c927"
      },
      "outputs": [
        {
          "output_type": "execute_result",
          "data": {
            "text/plain": [
              "[2, 3, 4, 5, 6, 7]"
            ]
          },
          "metadata": {},
          "execution_count": 15
        }
      ],
      "source": [
        "# Si queremos hacerlo sobre una lista tenemos que usar list comprehension\n",
        "\n",
        "l = [1,2,3,4,5,6]\n",
        "l_sum = [item + 1 for item in l]\n",
        "l_sum"
      ]
    },
    {
      "cell_type": "code",
      "execution_count": null,
      "metadata": {
        "id": "ZG2-z4mi1G2z",
        "colab": {
          "base_uri": "https://localhost:8080/"
        },
        "outputId": "48a261de-9405-47fd-9df9-89072575a7a6"
      },
      "outputs": [
        {
          "output_type": "execute_result",
          "data": {
            "text/plain": [
              "array([2, 3, 4, 5, 6, 7])"
            ]
          },
          "metadata": {},
          "execution_count": 16
        }
      ],
      "source": [
        "# Pero sobre un numpy array, lo podemos hacer simplemente sumando un número:\n",
        "\n",
        "np.arange(1,7) + 1"
      ]
    },
    {
      "cell_type": "code",
      "execution_count": null,
      "metadata": {
        "id": "z1-pEz_I1OhM",
        "colab": {
          "base_uri": "https://localhost:8080/"
        },
        "outputId": "21007aea-2756-4f8e-f7ce-d961b10e8dbc"
      },
      "outputs": [
        {
          "output_type": "execute_result",
          "data": {
            "text/plain": [
              "array([ 5, 10, 15, 20, 25, 30])"
            ]
          },
          "metadata": {},
          "execution_count": 17
        }
      ],
      "source": [
        "np.arange(1,7) * 5"
      ]
    },
    {
      "cell_type": "markdown",
      "metadata": {
        "id": "aqzrRe1L3FFX"
      },
      "source": [
        "### Arrays multidimensionales\n",
        "\n",
        "Al igual que las listas, los arrays de numpy pueden ser n-dimensionales"
      ]
    },
    {
      "cell_type": "code",
      "execution_count": null,
      "metadata": {
        "id": "g28WwZeC3Ko0"
      },
      "outputs": [],
      "source": [
        "n_dimensiones = np.array([[[1,2,3], [4,5,6]],\n",
        "                          [[7,8,9], [10, 11, 12]]])"
      ]
    },
    {
      "cell_type": "code",
      "source": [
        "n_dimensiones"
      ],
      "metadata": {
        "id": "PT-txwPYnKhQ",
        "colab": {
          "base_uri": "https://localhost:8080/"
        },
        "outputId": "4ec7109c-5190-42de-df83-68c805c2a0f4"
      },
      "execution_count": null,
      "outputs": [
        {
          "output_type": "execute_result",
          "data": {
            "text/plain": [
              "array([[[ 1,  2,  3],\n",
              "        [ 4,  5,  6]],\n",
              "\n",
              "       [[ 7,  8,  9],\n",
              "        [10, 11, 12]]])"
            ]
          },
          "metadata": {},
          "execution_count": 19
        }
      ]
    },
    {
      "cell_type": "markdown",
      "metadata": {
        "id": "P07kfllq1ZA1"
      },
      "source": [
        "### Shape\n",
        "\n",
        "Vimos que los arrays de numpy tienen un atributo que se llama `shape`. Esto nos dice la \"forma\" que tiene el array. Veamos un ejemplo:"
      ]
    },
    {
      "cell_type": "code",
      "execution_count": null,
      "metadata": {
        "id": "aG12kFQE1RD7",
        "colab": {
          "base_uri": "https://localhost:8080/"
        },
        "outputId": "87fd2b1d-191c-47b3-c5b0-9ae1fcfae9cf"
      },
      "outputs": [
        {
          "output_type": "execute_result",
          "data": {
            "text/plain": [
              "(2, 2, 3)"
            ]
          },
          "metadata": {},
          "execution_count": 20
        }
      ],
      "source": [
        "n_dimensiones.shape"
      ]
    },
    {
      "cell_type": "markdown",
      "metadata": {
        "id": "Ofc5pqH73qlh"
      },
      "source": [
        "El shape de un array puede modificarse con la función reshape() de numpy:"
      ]
    },
    {
      "cell_type": "code",
      "execution_count": null,
      "metadata": {
        "id": "JofXc_WC3cz3",
        "colab": {
          "base_uri": "https://localhost:8080/"
        },
        "outputId": "fcb57d5a-642b-4f65-c07b-f31ff1ec37f9"
      },
      "outputs": [
        {
          "output_type": "execute_result",
          "data": {
            "text/plain": [
              "array([0, 1, 2, 3, 4])"
            ]
          },
          "metadata": {},
          "execution_count": 21
        }
      ],
      "source": [
        "una_dim = np.arange(5)\n",
        "una_dim"
      ]
    },
    {
      "cell_type": "code",
      "execution_count": null,
      "metadata": {
        "id": "gI8I1-Wx37QJ",
        "colab": {
          "base_uri": "https://localhost:8080/"
        },
        "outputId": "134d10e3-b60c-49c7-91f1-7b17f08b5fdd"
      },
      "outputs": [
        {
          "output_type": "execute_result",
          "data": {
            "text/plain": [
              "(5,)"
            ]
          },
          "metadata": {},
          "execution_count": 22
        }
      ],
      "source": [
        "una_dim.shape"
      ]
    },
    {
      "cell_type": "code",
      "execution_count": null,
      "metadata": {
        "id": "II1Ond303zZt",
        "colab": {
          "base_uri": "https://localhost:8080/"
        },
        "outputId": "22f12d50-6e65-4621-c832-2f7de91da148"
      },
      "outputs": [
        {
          "output_type": "execute_result",
          "data": {
            "text/plain": [
              "array([[0],\n",
              "       [1],\n",
              "       [2],\n",
              "       [3],\n",
              "       [4]])"
            ]
          },
          "metadata": {},
          "execution_count": 23
        }
      ],
      "source": [
        "# (filas, columnas)\n",
        "una_dim = una_dim.reshape(5, 1)\n",
        "una_dim"
      ]
    },
    {
      "cell_type": "code",
      "execution_count": null,
      "metadata": {
        "id": "w-aNoKUF34hF"
      },
      "outputs": [],
      "source": [
        "una_dim = una_dim.reshape(1, 5)\n",
        "una_dim"
      ]
    },
    {
      "cell_type": "markdown",
      "metadata": {
        "id": "wZ6jhoVC4ed7"
      },
      "source": [
        "### Linspace\n",
        "\n",
        "La función linspace de numpy, nos permite crear arreglos de una forma similar a arange().\n",
        "\n",
        "La diferencia con arange() es que en esta función, se crean n elementos igualmente espaciados en un intervalo que definamos.\n",
        "\n",
        "Por ejemplo, si queremos crear un array de 10 elementos igualmente espaciados entre 0 y 1:"
      ]
    },
    {
      "cell_type": "code",
      "execution_count": null,
      "metadata": {
        "id": "kK4oPBKa4OwD"
      },
      "outputs": [],
      "source": [
        "np.linspace(0, 1, 10)"
      ]
    },
    {
      "cell_type": "markdown",
      "metadata": {
        "id": "eGizr4fG77T-"
      },
      "source": [
        "Recuerden que siempre se puede usar help!"
      ]
    },
    {
      "cell_type": "code",
      "execution_count": null,
      "metadata": {
        "id": "Y8Pr1LfN79Si",
        "collapsed": true
      },
      "outputs": [],
      "source": [
        "help(np.linspace)"
      ]
    },
    {
      "cell_type": "markdown",
      "metadata": {
        "id": "BEi0rt9i7__c"
      },
      "source": [
        "Y también tenemos documentación: https://numpy.org/doc/stable/reference/generated/numpy.linspace.html"
      ]
    },
    {
      "cell_type": "markdown",
      "metadata": {
        "id": "QKotqFtJ9csj"
      },
      "source": [
        "### Zeros y Ones\n",
        "\n",
        "Numpy también nos permite crear un array de tantos 0s o 1s como querramos"
      ]
    },
    {
      "cell_type": "code",
      "execution_count": null,
      "metadata": {
        "id": "g7NuVwf09i0m"
      },
      "outputs": [],
      "source": [
        "np.ones(10)"
      ]
    },
    {
      "cell_type": "code",
      "execution_count": null,
      "metadata": {
        "id": "p0buVgVy9knG"
      },
      "outputs": [],
      "source": [
        "np.zeros(10)"
      ]
    },
    {
      "cell_type": "markdown",
      "metadata": {
        "id": "smwpJlME94tO"
      },
      "source": [
        "O podemos usar la función full() y crear un array con la shape y el valor que querramos:"
      ]
    },
    {
      "cell_type": "code",
      "execution_count": null,
      "metadata": {
        "id": "7G4TDPLO9oJK"
      },
      "outputs": [],
      "source": [
        "np.full(shape=(2,2), fill_value=3)"
      ]
    },
    {
      "cell_type": "markdown",
      "metadata": {
        "id": "ddn-Mh2m5txI"
      },
      "source": [
        "### Acceder a elementos del array\n",
        "\n",
        "Al igual que una lista, para acceder a los elementos de un array de numpy podemos utilizar el indice de los elementos que querramos o un rango [start:stop:step]"
      ]
    },
    {
      "cell_type": "code",
      "execution_count": null,
      "metadata": {
        "id": "evltswHY5Cy0"
      },
      "outputs": [],
      "source": [
        "numpy_array"
      ]
    },
    {
      "cell_type": "code",
      "execution_count": null,
      "metadata": {
        "id": "CBv-w0nb571N"
      },
      "outputs": [],
      "source": [
        "numpy_array[1]"
      ]
    },
    {
      "cell_type": "code",
      "execution_count": null,
      "metadata": {
        "id": "BFEg7RZq5_SN"
      },
      "outputs": [],
      "source": [
        "numpy_array[0:3]"
      ]
    },
    {
      "cell_type": "markdown",
      "metadata": {
        "id": "Q7_TneBT49AQ"
      },
      "source": [
        "### Mask\n",
        "\n",
        "Muchas veces vamos a tener arrays enormes con datos y queremos filtrarlos. Por ejemplo, de un array queremos obtener todos los números que sean menores a 10.\n",
        "\n",
        "Para hacer esto en una lista de python, deberíamos iterar sobre toda la lista. Podemos evitarlo usando masks en numpy.\n",
        "\n",
        "Las masks (o filtros booleanos) se definen como una condición, por ejemplo para el caso en el que queremos saber si un elemento es < 10:\n",
        "\n",
        "`lista < 10`\n",
        "\n",
        "Esto nos va a retornar otra lista (con el mismo shape que la lista a la que le aplicamos la mask) pero que va a contener los valores `True` y `False`.\n",
        "\n",
        "True en los casos que se cumple la condición, False de lo contrario.\n"
      ]
    },
    {
      "cell_type": "code",
      "execution_count": null,
      "metadata": {
        "id": "Og1VGsHL40uL"
      },
      "outputs": [],
      "source": [
        "lista_a_filtrar = np.arange(100).reshape(10, 10) # Creamos una lista de 100 elementos con shape (10, 10), es decir, 10 filas y 10 columnas\n",
        "lista_a_filtrar"
      ]
    },
    {
      "cell_type": "code",
      "execution_count": null,
      "metadata": {
        "id": "vD-BGQhk5N9o"
      },
      "outputs": [],
      "source": [
        "# Definimos la Mask\n",
        "\n",
        "mask = lista_a_filtrar < 10\n",
        "mask"
      ]
    },
    {
      "cell_type": "markdown",
      "metadata": {
        "id": "0GumFE1_7aLz"
      },
      "source": [
        "Ahora, la Mask nos retorna otra lista con valores booleanos, pero si queremos usar esto para filtrar (aplicar la mascara), ¿cómo hacemos?\n",
        "\n",
        "Es simple, se define de la siguiente manera:"
      ]
    },
    {
      "cell_type": "code",
      "execution_count": null,
      "metadata": {
        "id": "p20enwRn7WAu"
      },
      "outputs": [],
      "source": [
        "lista_filtrada = lista_a_filtrar[mask]\n",
        "lista_filtrada"
      ]
    },
    {
      "cell_type": "markdown",
      "metadata": {
        "id": "6LLeb5AZ-t9_"
      },
      "source": [
        "Las máscaras no sirven solo para filtrar, también podemos asignar un valor a los elementos que cumplan la condición. Veamos un ejemplo: Reemplacemos todos los elementos que sean menores a 10 por el numero 10:"
      ]
    },
    {
      "cell_type": "code",
      "execution_count": null,
      "metadata": {
        "id": "PerRcMPW-4pY"
      },
      "outputs": [],
      "source": [
        "lista_elementos = np.arange(20)\n",
        "mask = lista_elementos < 10\n",
        "lista_elementos[mask] = 10 # Asignamos el valor \"menor\" a todos los items que cumplen la condicion\n",
        "lista_elementos"
      ]
    },
    {
      "cell_type": "markdown",
      "metadata": {
        "id": "c9VRDoEI8Lwp"
      },
      "source": [
        "### Otras funciones\n",
        "\n",
        "No podemos ver todas las funciones que nos brinda numpy en una clase, pero vamos a ver algunas de las más comunes ya que el resto tiene una sintaxis similar.\n",
        "\n",
        "Si queremos sumar todos los elementos de un array:"
      ]
    },
    {
      "cell_type": "code",
      "execution_count": null,
      "metadata": {
        "id": "N3964JSe7mA3"
      },
      "outputs": [],
      "source": [
        "lista_a_filtrar.sum()"
      ]
    },
    {
      "cell_type": "code",
      "execution_count": null,
      "metadata": {
        "id": "RbvVYUDj5Cy2"
      },
      "outputs": [],
      "source": [
        "lista_a_filtrar"
      ]
    },
    {
      "cell_type": "markdown",
      "metadata": {
        "id": "hy-Ip1Bc8uVL"
      },
      "source": [
        "En numpy, las funciones se pueden aplicar por \"axis\" (eje). Por ejemplo, podemos aplicar la función sum() sobre cada columna:"
      ]
    },
    {
      "cell_type": "code",
      "execution_count": null,
      "metadata": {
        "id": "ZERi_mTW8nm5"
      },
      "outputs": [],
      "source": [
        "# Por columnas\n",
        "\n",
        "lista_a_filtrar.sum(axis=0)"
      ]
    },
    {
      "cell_type": "markdown",
      "metadata": {
        "id": "vhTkdG238_W1"
      },
      "source": [
        "O sobre cada fila:\n"
      ]
    },
    {
      "cell_type": "code",
      "execution_count": null,
      "metadata": {
        "id": "2oJxxrf683pv"
      },
      "outputs": [],
      "source": [
        "# Por filas\n",
        "\n",
        "lista_a_filtrar.sum(axis=1)"
      ]
    },
    {
      "cell_type": "markdown",
      "metadata": {
        "id": "0vv0JfLB-EvT"
      },
      "source": [
        "# ¡A practicar!\n",
        "\n",
        "Ahora que vimos algunas funcionalidades de numpy, vamos a resolver algunos problemas. ¡Recuerden modificar, romper y arreglar todo lo que quieran!\n",
        "\n",
        "Probablemente necesiten buscar algo en la documentación o utilizar el comando help().\n"
      ]
    },
    {
      "cell_type": "markdown",
      "metadata": {
        "id": "vFekgvhv-WSm"
      },
      "source": [
        "#### Ejercicio\n",
        "\n",
        "Crear un array de 3x3 en el que todos sus valores sean `True` de la forma más simple posible"
      ]
    },
    {
      "cell_type": "code",
      "execution_count": null,
      "metadata": {
        "id": "ACsIuPap-Vh_"
      },
      "outputs": [],
      "source": [
        "trues_array = #COMPLETAR\n",
        "trues_array"
      ]
    },
    {
      "cell_type": "markdown",
      "metadata": {
        "id": "gnTtsPxO-mjo"
      },
      "source": [
        "#### Ejercicio\n",
        "\n",
        "Reemplazar todos los números impares del siguiente array por el valor -1"
      ]
    },
    {
      "cell_type": "code",
      "execution_count": null,
      "metadata": {
        "id": "oxF5oGEc_cc8"
      },
      "outputs": [],
      "source": [
        "arr = np.arange(0, 10)\n",
        "mask = # COMPLETAR\n",
        "# COMPLETAR"
      ]
    },
    {
      "cell_type": "markdown",
      "metadata": {
        "id": "AyRMewpV_h_r"
      },
      "source": [
        "#### Ejercicio\n",
        "\n",
        "Investigar las funciones vstack y hstack de numpy.\n",
        "\n",
        "1) Concatenar los arrays a y b horizontalmente\n",
        "\n",
        "2) Concatenar los arrays a y b verticalmente\n",
        "\n",
        "Resultado esperado:\n",
        "\n",
        "1)\n",
        "```\n",
        "array([[0, 1, 2, 3, 4],\n",
        "       [5, 6, 7, 8, 9],\n",
        "       [1, 1, 1, 1, 1],\n",
        "       [1, 1, 1, 1, 1]])\n",
        "```\n",
        "\n",
        "2)\n",
        "```\n",
        "array([[0, 1, 2, 3, 4, 1, 1, 1, 1, 1],\n",
        "      [5, 6, 7, 8, 9, 1, 1, 1, 1, 1]])\n",
        "```\n",
        "\n"
      ]
    },
    {
      "cell_type": "code",
      "execution_count": null,
      "metadata": {
        "id": "Q5___yx5_jGg"
      },
      "outputs": [],
      "source": [
        "a = np.arange(10).reshape(2,5)\n",
        "b = np.repeat(1, 10).reshape(2,5)"
      ]
    },
    {
      "cell_type": "code",
      "execution_count": null,
      "metadata": {
        "id": "gNIDS0w49_18"
      },
      "outputs": [],
      "source": [
        "print(a)"
      ]
    },
    {
      "cell_type": "code",
      "execution_count": null,
      "metadata": {
        "id": "_QwyF0y7-Ah0"
      },
      "outputs": [],
      "source": [
        "print(b)"
      ]
    },
    {
      "cell_type": "markdown",
      "metadata": {
        "id": "98fsHZfa_yQe"
      },
      "source": [
        "##### Ejercicio\n",
        "\n",
        "¡Cómo podemos obtener la intersección entre dos arrays?\n",
        "\n",
        "Investigar la función `intersect1d` y utilizarla para los siguientes arrays:"
      ]
    },
    {
      "cell_type": "code",
      "execution_count": null,
      "metadata": {
        "id": "HHE9ohwW_ZvB"
      },
      "outputs": [],
      "source": [
        "a = np.array([1,2,3,2,3,4,3,4,5,6])\n",
        "b = np.array([7,2,10,2,7,4,9,4,9,8])"
      ]
    },
    {
      "cell_type": "code",
      "execution_count": null,
      "metadata": {
        "id": "mRgUebvjAMY7"
      },
      "outputs": [],
      "source": [
        "# COMPLETAR"
      ]
    },
    {
      "cell_type": "code",
      "execution_count": null,
      "metadata": {
        "id": "IMcNKMIUAIw7"
      },
      "outputs": [],
      "source": [
        "# Salida esperada: array([2, 4])"
      ]
    },
    {
      "cell_type": "markdown",
      "source": [
        "# Pandas\n",
        "\n",
        "Pandas es otra librería muy utilizada en el mundo data. El principal concepto detrás de Pandas es el DataFrame.\n",
        "\n",
        "Un DataFrame es una estructura de datos en general con dos dimensiones en la cual se puede guardar datos de distintos tipos (como caracteres, enteros, valores de punto flotante, factores y más) en columnas. En un DataFrame se van a almacenar los datos con los que querramos trabajar.\n",
        "\n",
        "Pandas nos provee muchas funciones para manipular datos en un DataFrame. Lo interesante sobre todo, es que podremos hacer operaciones y aplicar funciones por columna. Es decir, sin necesidad de iterar con uno o más ciclos for anidados. Computacionalmente, es una implementación mucho más optimizada: ahorra tiempo y capacidad de procesamiento. Asuntos como ese, son los que hay que resolver al hablar de \"big data\", y existen librerías más especializadas para grandes volúmenes. El primer paso en las vidas de todo profesional data, es pandas; servirá durante mucho tiempo antes de tener que recurrir a algo más.\n",
        "\n",
        "Pandas corre sobre Numpy, de manera que hay muchas cosas en común\n"
      ],
      "metadata": {
        "id": "5YDP5Pc3Uwn5"
      }
    },
    {
      "cell_type": "code",
      "source": [
        "import pandas as pd"
      ],
      "metadata": {
        "id": "T1E6Jw39VLVg"
      },
      "execution_count": null,
      "outputs": []
    },
    {
      "cell_type": "markdown",
      "source": [
        "Un DataFrame se puede crear por ejemplo, a partir de un archivo csv (caso más común).\n",
        "\n",
        "Para eso, pandas nos provee la función read_csv.\n",
        "\n",
        "Antes que nada, si estamos trabajando en google colab, debemos montar drive en nuestro notebook.\n",
        "\n",
        "Una vez montado drive, debemos reemplazar el path al archivo:"
      ],
      "metadata": {
        "id": "KoQpLdHDVMmP"
      }
    },
    {
      "cell_type": "code",
      "source": [
        "from google.colab import drive # La usamos para montar nuestra unidad de Google Drive\n",
        "drive.mount('/content/drive') # Montamos nuestra unidad de Google Drive\n",
        "iris_dataset = pd.read_csv('drive/MyDrive/.... /iris_dataset.csv') # Completar con la ruta del drive donde esta guardado el dataset + iris_dataset.csv\""
      ],
      "metadata": {
        "id": "k3O9S8SHVMKe"
      },
      "execution_count": null,
      "outputs": []
    },
    {
      "cell_type": "code",
      "source": [
        "iris_dataset = pd.read_csv('iris_dataset.csv')"
      ],
      "metadata": {
        "id": "ZJmaWFDmVUcu"
      },
      "execution_count": null,
      "outputs": []
    },
    {
      "cell_type": "code",
      "source": [
        "iris_dataset"
      ],
      "metadata": {
        "id": "MR9hRdIRbTE-"
      },
      "execution_count": null,
      "outputs": []
    },
    {
      "cell_type": "markdown",
      "metadata": {
        "id": "l2p5q4g3GZ4P"
      },
      "source": [
        "Lo que hicimos fue leer un archivo csv y meterlo dentro de un DataFrame de pandas. Este DataFrame tiene filas y columnas.\n",
        "\n",
        "Cad columna tiene un tipo de dato. Esto podemos verlo con la función info()"
      ]
    },
    {
      "cell_type": "code",
      "execution_count": null,
      "metadata": {
        "id": "jHmyCGNfGvoj"
      },
      "outputs": [],
      "source": [
        "iris_dataset.info()"
      ]
    },
    {
      "cell_type": "markdown",
      "metadata": {
        "id": "4CYrbZvZGykz"
      },
      "source": [
        "Nos dice que todas las columnas son del tipo float, a excepción de \"species\" que es del tipo \"object\".\n",
        "\n",
        "Es importante tener en cuenta el tipo de datos de las columnas ya que de esto depende las operaciones que podemos hacer sobre las mismas.\n",
        "\n",
        "El dataset que estamos usando (iris_dataset) es muy conocido, pueden googlear para saber más del mismo.\n",
        "\n",
        "\n",
        "Otra función muy útil de los DataFrames es describe()\n"
      ]
    },
    {
      "cell_type": "code",
      "execution_count": null,
      "metadata": {
        "id": "G_Tj47H8GxMx"
      },
      "outputs": [],
      "source": [
        "iris_dataset.describe()"
      ]
    },
    {
      "cell_type": "markdown",
      "metadata": {
        "id": "WwoyrgzTHOKp"
      },
      "source": [
        "Describe, nos da datos estadísticos de nuesto DataFrame.\n",
        "\n",
        "Un DataFrame, puede tener valores faltantes. Estos valores faltantes en pandas se representan como NaN.\n",
        "\n",
        "Cuántos datos faltantes hay en este DataFrame?"
      ]
    },
    {
      "cell_type": "code",
      "execution_count": null,
      "metadata": {
        "id": "DKkQ8auQHMrX"
      },
      "outputs": [],
      "source": [
        "iris_dataset.isna().sum()"
      ]
    },
    {
      "cell_type": "markdown",
      "metadata": {
        "id": "KPUPxomxHhcf"
      },
      "source": [
        "Ninguno! Este dataset no tiene datos faltantes (rara vez nos vamos a encontrar con datasets de este tipo)\n",
        "\n",
        "También podemos aplicar funciones sobre una columna.\n",
        "\n",
        "Para seleccionar una columna, utilizamos []."
      ]
    },
    {
      "cell_type": "code",
      "execution_count": null,
      "metadata": {
        "id": "YD0wzTIOHgmX"
      },
      "outputs": [],
      "source": [
        "iris_dataset['sepal_length']"
      ]
    },
    {
      "cell_type": "markdown",
      "metadata": {
        "id": "RudjX-MzIG5T"
      },
      "source": [
        "Que tipo de dato nos retorna esto?"
      ]
    },
    {
      "cell_type": "code",
      "execution_count": null,
      "metadata": {
        "id": "mWwAPzUvH-BO"
      },
      "outputs": [],
      "source": [
        "type(iris_dataset['sepal_length'])"
      ]
    },
    {
      "cell_type": "markdown",
      "metadata": {
        "id": "YhiP2hFjIKUA"
      },
      "source": [
        "Una \"Series\". Una series es el objeto que compone a los dataframes de pandas.\n",
        "\n",
        "Este objeto es muy similar a los que es un array de Numpy (de hecho esta construido sobre el). La diferencia es que el objeto Series tiene etiquetas (labels), eso quiere decir que puede ser indexado por la etiqueta, y no solo por la posicion.\n",
        "\n",
        "Si en lugar de obtener una Series, quiero un DataFrame, puedo hacerlo utilizando corchetes dobles:"
      ]
    },
    {
      "cell_type": "code",
      "execution_count": null,
      "metadata": {
        "id": "9F4WwMQmIJfd"
      },
      "outputs": [],
      "source": [
        "iris_dataset[['sepal_length']]"
      ]
    },
    {
      "cell_type": "markdown",
      "metadata": {
        "id": "ZNDN9xqRJK9I"
      },
      "source": [
        "En este caso, puedo seleccionar todas las columnas que quiera"
      ]
    },
    {
      "cell_type": "code",
      "execution_count": null,
      "metadata": {
        "id": "HV6T3X7HJKBR"
      },
      "outputs": [],
      "source": [
        "iris_dataset[['sepal_length', 'sepal_width', 'species']]"
      ]
    },
    {
      "cell_type": "markdown",
      "metadata": {
        "id": "NbdCTcmQJjQB"
      },
      "source": [
        "Los DataFrames también tienen un atributo \"columns\":"
      ]
    },
    {
      "cell_type": "code",
      "execution_count": null,
      "metadata": {
        "id": "I2xcImTDJQHT"
      },
      "outputs": [],
      "source": [
        "iris_dataset.columns"
      ]
    },
    {
      "cell_type": "markdown",
      "metadata": {
        "id": "dKCpqW9VJsMg"
      },
      "source": [
        "Y otro atributo index:"
      ]
    },
    {
      "cell_type": "code",
      "execution_count": null,
      "metadata": {
        "id": "dRd08pqXJrUn"
      },
      "outputs": [],
      "source": [
        "iris_dataset.index"
      ]
    },
    {
      "cell_type": "markdown",
      "metadata": {
        "id": "gLg3Di2UJwTM"
      },
      "source": [
        "Podemos elegir cualquier columna como index:"
      ]
    },
    {
      "cell_type": "code",
      "execution_count": null,
      "metadata": {
        "id": "na1fyzyEJvDU"
      },
      "outputs": [],
      "source": [
        "iris_dataset = iris_dataset.set_index('sepal_length')"
      ]
    },
    {
      "cell_type": "markdown",
      "metadata": {
        "id": "fTughQqPKLum"
      },
      "source": [
        "Si nos arrepentimos, podemos resetear el index para que vuelva a ser numérico"
      ]
    },
    {
      "cell_type": "code",
      "execution_count": null,
      "metadata": {
        "id": "K-udXmjKKVJ5"
      },
      "outputs": [],
      "source": [
        "iris_dataset = iris_dataset.reset_index()"
      ]
    },
    {
      "cell_type": "code",
      "execution_count": null,
      "metadata": {
        "id": "5z8DVuVNKPX4"
      },
      "outputs": [],
      "source": [
        "iris_dataset"
      ]
    },
    {
      "cell_type": "markdown",
      "metadata": {
        "id": "ki28ccJoLBby"
      },
      "source": [
        "### Head, Tail y Sample\n",
        "\n",
        "A veces tenemos DataFrames con muchisimos datos y no queremos imprimir todo en un notebook, simplemente algunas filas como ejemplo.\n",
        "\n",
        "Para esto existen las funciones head(), tail() y sample()"
      ]
    },
    {
      "cell_type": "code",
      "execution_count": null,
      "metadata": {
        "id": "Q_mMRwDHLMV5"
      },
      "outputs": [],
      "source": [
        "iris_dataset.head()"
      ]
    },
    {
      "cell_type": "code",
      "execution_count": null,
      "metadata": {
        "id": "z2UhPxnPLMYX"
      },
      "outputs": [],
      "source": [
        "iris_dataset.tail()"
      ]
    },
    {
      "cell_type": "code",
      "execution_count": null,
      "metadata": {
        "id": "tfp_djLpLMdN",
        "scrolled": true
      },
      "outputs": [],
      "source": [
        "iris_dataset.sample(5, random_state=42)"
      ]
    },
    {
      "cell_type": "markdown",
      "metadata": {
        "id": "bK6lSU8eLRfI"
      },
      "source": [
        "Cuál es la diferencia entre las 3?"
      ]
    },
    {
      "cell_type": "markdown",
      "metadata": {
        "id": "KuIePhmgJ_Xq"
      },
      "source": [
        "#### loc e iloc\n",
        "\n",
        "Pandas nos probee las funciones loc e iloc para acceder a sus datos.\n",
        "\n",
        "Para que sirven?\n",
        "\n",
        "Investigar"
      ]
    },
    {
      "cell_type": "code",
      "execution_count": null,
      "metadata": {
        "id": "eSeugucxJ2a8"
      },
      "outputs": [],
      "source": [
        "iris_dataset.loc[1,['sepal_length']]"
      ]
    },
    {
      "cell_type": "code",
      "execution_count": null,
      "metadata": {
        "id": "pmOGc9A1K4az"
      },
      "outputs": [],
      "source": [
        "iris_dataset.iloc[1,0]"
      ]
    },
    {
      "cell_type": "markdown",
      "metadata": {
        "id": "ATZwdlzUqSa1"
      },
      "source": [
        "## Valores faltantes\n",
        "\n",
        "Vimos que por lo general en los datasets tienen datos faltantes. Datos faltantes puede haber por muchas razones (errores, no tenemos el dato, perdimos el dato, etc).\n",
        "\n",
        "Muchas veces, necesitamos completar estos valores faltantes con alguna aproximación que no altere nuestros resultados.\n",
        "\n",
        "Existen muchas formas de imputar valores a datos faltantes:\n",
        "\n",
        "- Podemos usar la media o mediana (imputación univariante)\n",
        "- Podemos usar un valor fijo (imputación univariante)\n",
        "- Podemos descartar la fila con datos faltantes (observar que descartar sin ningún criterio puede hacer que perdamos muchos datos)\n",
        "- Podemos completar el valor faltante en función de los valores de otras columnas (imputación multivariante)\n",
        "\n",
        "Tenemos que tener en cuenta que siempre es importante entender el problema. En datascience vamos a ver que muchas decisiones que tomemos DEPENDEN DEL PROBLEMA y son muy importantes ya que pueden alterar nuestros resultados finales.\n",
        "\n",
        "En esta clase, vamos a trabajar con un dataset de review de vinos.\n",
        "\n",
        "Lo podemos descargar en: https://www.kaggle.com/zynicide/wine-reviews/ (nos tenemos que registrar)\n",
        "\n",
        "Si usan colab, recuerden subir el csv a drive y montar drive para poder leerlo con pandas."
      ]
    },
    {
      "cell_type": "code",
      "execution_count": null,
      "metadata": {
        "id": "hed9aVYwl85V"
      },
      "outputs": [],
      "source": [
        "import pandas as pd"
      ]
    },
    {
      "cell_type": "code",
      "execution_count": null,
      "metadata": {
        "id": "KwJptZ8DE-ny"
      },
      "outputs": [],
      "source": [
        "wine_reviews_df = pd.read_csv('winemag-data_first150k.csv')"
      ]
    },
    {
      "cell_type": "code",
      "execution_count": null,
      "metadata": {
        "id": "-Juwek6rGYk0"
      },
      "outputs": [],
      "source": [
        "# from google.colab import drive\n",
        "# drive.mount('/content/drive')"
      ]
    },
    {
      "cell_type": "code",
      "execution_count": null,
      "metadata": {
        "id": "zKiYI4DSHCaH"
      },
      "outputs": [],
      "source": [
        "# wine_reviews_df = pd.read_csv('/content/drive/MyDrive/Curso DS/datasets/winemag-data_first150k.csv')"
      ]
    },
    {
      "cell_type": "markdown",
      "metadata": {
        "id": "vuspUdG5FbVT"
      },
      "source": [
        "Exploremos un poco el dataset.\n",
        "\n",
        "Imprimimos las primeras 5 filas:"
      ]
    },
    {
      "cell_type": "code",
      "execution_count": null,
      "metadata": {
        "id": "4JnNnssaE-p5"
      },
      "outputs": [],
      "source": [
        "wine_reviews_df.head()"
      ]
    },
    {
      "cell_type": "markdown",
      "metadata": {
        "id": "ib2DSjCKFkQ1"
      },
      "source": [
        "¿ Cuántas filas tiene el dataset? ¿ Y cuántas columnas ?\n",
        "\n",
        "Esta pregunta, podemos responderla utilizando `shape`\n",
        "\n"
      ]
    },
    {
      "cell_type": "code",
      "execution_count": null,
      "metadata": {
        "id": "KOd19FjdE-r9"
      },
      "outputs": [],
      "source": [
        "wine_reviews_df.shape"
      ]
    },
    {
      "cell_type": "markdown",
      "metadata": {
        "id": "lWa1q3NBFx55"
      },
      "source": [
        "Vemos que el dataset tiene 150930 filas y 11 columnas.\n",
        "\n",
        "¿ Cuántos valores faltantes tiene el dataset en cada columna ?"
      ]
    },
    {
      "cell_type": "code",
      "execution_count": null,
      "metadata": {
        "id": "vMSj8VjpE-uJ"
      },
      "outputs": [],
      "source": [
        "wine_reviews_df.isna().sum()"
      ]
    },
    {
      "cell_type": "markdown",
      "metadata": {
        "id": "LEGqIUv5Ict3"
      },
      "source": [
        "Ahora, ¿Qué hacemos con los faltantes?\n",
        "\n",
        "Pandas tiene el método .fillna() para imputar valores faltantes y el método .dropna() para eliminar filas con valores faltantes.\n",
        "\n",
        "Veamos un poco de documentación:"
      ]
    },
    {
      "cell_type": "code",
      "execution_count": null,
      "metadata": {
        "id": "nNHhePTQJLUl"
      },
      "outputs": [],
      "source": [
        "help(pd.DataFrame.dropna)"
      ]
    },
    {
      "cell_type": "code",
      "execution_count": null,
      "metadata": {
        "id": "nBcfCvD5JUDE"
      },
      "outputs": [],
      "source": [
        "help(pd.DataFrame.fillna)"
      ]
    },
    {
      "cell_type": "markdown",
      "metadata": {
        "id": "vqUWxzsUJapc"
      },
      "source": [
        "Ahora, para no modificar nuestro dataset original, lo vamos a clonar"
      ]
    },
    {
      "cell_type": "code",
      "execution_count": null,
      "metadata": {
        "id": "hwv4LFcbJZ9z"
      },
      "outputs": [],
      "source": [
        "df = wine_reviews_df.copy()"
      ]
    },
    {
      "cell_type": "markdown",
      "metadata": {
        "id": "MS6CQbUFJmN3"
      },
      "source": [
        "Ahora vamos a trabajar sobre df."
      ]
    },
    {
      "cell_type": "code",
      "execution_count": null,
      "metadata": {
        "id": "NbQzl4DpJkcf"
      },
      "outputs": [],
      "source": [
        "df.isna().sum()"
      ]
    },
    {
      "cell_type": "code",
      "execution_count": null,
      "metadata": {
        "id": "_GPD9qB6Lgam"
      },
      "outputs": [],
      "source": [
        "df.info()"
      ]
    },
    {
      "cell_type": "markdown",
      "metadata": {
        "id": "gWankpLXKyEI"
      },
      "source": [
        "Vemos que las columnas que tienen datos faltantes son designation, price, region_1 y region_2.\n",
        "\n",
        "Por ahora, como solo estamos aprendiendo Pandas, no vamos a explorar mucho los datos para tomar decisiones. Simplemente vamos a aprender como se usa pandas. En próximas clases vamos a empezar a explorar los datos con mas detalle para tomar buenas decisiones.\n",
        "\n",
        "Empecemos con el método fillna:\n",
        "\n",
        "Vamos a imputar los valores faltantes de la columna \"price\" con la media de la columna."
      ]
    },
    {
      "cell_type": "code",
      "execution_count": null,
      "metadata": {
        "id": "xL5Me4_kJ0jZ"
      },
      "outputs": [],
      "source": [
        "mean_price = df['price'].mean()\n",
        "df['price'] = df['price'].fillna(mean_price)"
      ]
    },
    {
      "cell_type": "markdown",
      "metadata": {
        "id": "rdVAym1dMZFR"
      },
      "source": [
        "Verificamos que no haya más nulos"
      ]
    },
    {
      "cell_type": "code",
      "execution_count": null,
      "metadata": {
        "id": "Cov9KU7_MYEb"
      },
      "outputs": [],
      "source": [
        "df.isna().sum()"
      ]
    },
    {
      "cell_type": "markdown",
      "metadata": {
        "id": "8zD0VNfAMe1U"
      },
      "source": [
        "Vemos que ahora hay 0 null values en la columna price"
      ]
    },
    {
      "cell_type": "markdown",
      "metadata": {
        "id": "IF1Y4mkqMkCR"
      },
      "source": [
        "Ahora, completemos las columnas \"designation\", \"region_1\" y \"region_2\" con el valor por defecto: \"dato faltante\".\n",
        "\n",
        "Podemos hacerlo pasandole un diccionario como parametro:"
      ]
    },
    {
      "cell_type": "code",
      "execution_count": null,
      "metadata": {
        "id": "mWZxhyFdMuef"
      },
      "outputs": [],
      "source": [
        "default_value = \"dato faltante\"\n",
        "df = df.fillna(value={'designation': default_value, \"region_1\": default_value, \"region_2\": default_value})"
      ]
    },
    {
      "cell_type": "code",
      "execution_count": null,
      "metadata": {
        "id": "-unccDKTNHVV"
      },
      "outputs": [],
      "source": [
        "df.isna().sum()"
      ]
    },
    {
      "cell_type": "markdown",
      "metadata": {
        "id": "cA8kunDvNJip"
      },
      "source": [
        "Ahora nos queda la columna country. En este caso, lo que vamos a hacer es descartar las filas que tengan valores faltantes en esta columna.\n",
        "\n",
        "Para esto, vamos a usar el método dropna() y vamos a pasarle el parámetro axis=0\n",
        "\n",
        "Veamos cuantas filas tiene el dataset antes de borrar nulos:"
      ]
    },
    {
      "cell_type": "code",
      "execution_count": null,
      "metadata": {
        "id": "Hx4TxbWqNcUf"
      },
      "outputs": [],
      "source": [
        "df.shape[0]"
      ]
    },
    {
      "cell_type": "markdown",
      "metadata": {
        "id": "PnnoOkdVNhH_"
      },
      "source": [
        "Borramos nulos:"
      ]
    },
    {
      "cell_type": "code",
      "execution_count": null,
      "metadata": {
        "id": "IPnXIc7NNiR8"
      },
      "outputs": [],
      "source": [
        "df = df.dropna(axis=0)"
      ]
    },
    {
      "cell_type": "markdown",
      "metadata": {
        "id": "_zQnuNp4NlBm"
      },
      "source": [
        "Y ahora debería haber 5 filas menos:"
      ]
    },
    {
      "cell_type": "code",
      "execution_count": null,
      "metadata": {
        "id": "JwCyxVScNna5"
      },
      "outputs": [],
      "source": [
        "df.shape[0]"
      ]
    },
    {
      "cell_type": "code",
      "execution_count": null,
      "metadata": {
        "id": "r9k2B3h_eoEC"
      },
      "outputs": [],
      "source": [
        "df.isna().sum()"
      ]
    },
    {
      "cell_type": "markdown",
      "metadata": {
        "id": "2kiI9tk4CwyS"
      },
      "source": [
        "## Filtro por máscara\n",
        "\n",
        "Vimos que en numpy podemos utilizar filtros. En pandas también podemos hacerlo y es algo que vamos utilizar mucho asique es importante aprender a usarlo bien!\n",
        "\n",
        "Los filtros se utilizan igual que en numpy.\n",
        "\n",
        "Seleccionemos todas las filas en las que country sea = 'US'"
      ]
    },
    {
      "cell_type": "code",
      "execution_count": null,
      "metadata": {
        "id": "KMmFT1AKCyxm"
      },
      "outputs": [],
      "source": [
        "df[df['country'] == 'US']"
      ]
    },
    {
      "cell_type": "markdown",
      "metadata": {
        "id": "nME-svotWI60"
      },
      "source": [
        "## Correlación\n",
        "\n",
        "Pandas nos provee una función para medir la correlación entre variables numéricas"
      ]
    },
    {
      "cell_type": "code",
      "execution_count": null,
      "metadata": {
        "id": "cyUnbNUjWIbU"
      },
      "outputs": [],
      "source": [
        "df[['points', 'price']].corr()"
      ]
    },
    {
      "cell_type": "markdown",
      "metadata": {
        "id": "fAh57kcSPihx"
      },
      "source": [
        "#### Ejercicio\n",
        "\n",
        "Investigar las funciones:\n",
        "- value_counts\n",
        "- unique\n",
        "- nunique\n",
        "- max\n",
        "- min\n",
        "- sort_values\n",
        "\n",
        "Responder las siguientes preguntas utilizando lo que sabemos de pandas + lo que investigamos de las funciones de arriba (con la menor cantidad de funciones posibles):\n",
        "\n",
        "a) ¿ Qúe valores distintos (únicos) hay en la columna country ?\n",
        "\n",
        "b) ¿ Cuántos valores distintos hay en la columna country ?\n",
        "\n",
        "c) ¿ Con qué frecuencia (cuantas veces) aparece cada uno de los paises ?\n",
        "\n",
        "d) ¿ Cuál es el valor máximo de la columna price ?\n",
        "\n",
        "e) ¿ Cuál es el valor mínimo de la columna price ?\n",
        "\n",
        "f) ¿ Cuál es el vino más caro ?\n",
        "\n",
        "g) ¿ Cuántos vinos tienen un precio por encima de la media ?\n"
      ]
    },
    {
      "cell_type": "markdown",
      "metadata": {
        "id": "2OIHU4AS08Fj"
      },
      "source": [
        "# Apply\n",
        "\n",
        "El método apply de los dataframes de pandas, nos permite realizar una acción sobre cada fila o columna (sobre un \"axis\") del dataset.\n",
        "\n",
        "https://pandas.pydata.org/pandas-docs/stable/reference/api/pandas.DataFrame.apply.html\n",
        "\n",
        "Por ejemplo, queremos crear una nueva columna que se llame \"description_len\" y contenga la cantidad de caracteres que hay en cada fila de la columna \"description\".\n",
        "\n",
        "Primero: Definamos una función que cuente los caracteres de un string:"
      ]
    },
    {
      "cell_type": "code",
      "execution_count": null,
      "metadata": {
        "id": "eftxZzC63QV5"
      },
      "outputs": [],
      "source": [
        "def count_string_len(string:str) -> int:\n",
        "\n",
        "    \"\"\"\n",
        "    La función retorna un número entero con la cantidad de caracteres del string.\n",
        "    \"\"\"\n",
        "  # COMPLETAR"
      ]
    },
    {
      "cell_type": "code",
      "execution_count": null,
      "metadata": {
        "id": "ZZUBqfV5eoEF"
      },
      "outputs": [],
      "source": [
        "df['description_len'] = df['description'].apply(count_string_len)"
      ]
    },
    {
      "cell_type": "code",
      "execution_count": null,
      "metadata": {
        "id": "FQ4KQeHk5Dvd"
      },
      "outputs": [],
      "source": [
        "df.head()"
      ]
    },
    {
      "cell_type": "markdown",
      "metadata": {
        "id": "rmFZUH5C5Kly"
      },
      "source": [
        "Para utilizar apply, no hace falta definir una función aparte. También podemos hacerlo directamente utilizando funciónes \"lambda\":"
      ]
    },
    {
      "cell_type": "code",
      "execution_count": null,
      "metadata": {
        "id": "SGlUbp6x5SX_"
      },
      "outputs": [],
      "source": [
        "df['description_len'] = df['description'].apply(lambda x: len(x))"
      ]
    },
    {
      "cell_type": "code",
      "execution_count": null,
      "metadata": {
        "id": "nEFYgf6f5VkD"
      },
      "outputs": [],
      "source": [
        "df.head()"
      ]
    },
    {
      "cell_type": "markdown",
      "metadata": {
        "id": "n2yaEC8O5Z3r"
      },
      "source": [
        "#### Ejercicio: Utilizar una función lambda para crear una nueva columna que se llame float_point y contenga los mismos datos que la columna \"points\" pero en formato float"
      ]
    },
    {
      "cell_type": "markdown",
      "metadata": {
        "id": "1j1oQFvz1KQo"
      },
      "source": [
        "# Group by\n",
        "\n",
        "\n",
        "La función group by de pandas, nos permite agrupar dataframes a partir de una o más columnas y mediante funciones de agregación obtener insights de cada grupo.\n",
        "\n",
        "Veamos ejemplos:"
      ]
    },
    {
      "cell_type": "code",
      "execution_count": null,
      "metadata": {
        "id": "e4XJu0mj5ogm"
      },
      "outputs": [],
      "source": [
        "group_by_country = df.groupby('country')"
      ]
    },
    {
      "cell_type": "code",
      "execution_count": null,
      "metadata": {
        "id": "RwO2pTeneoEG"
      },
      "outputs": [],
      "source": [
        "group_by_country"
      ]
    },
    {
      "cell_type": "markdown",
      "metadata": {
        "id": "kaA3Qxj86iqu"
      },
      "source": [
        "Vemos que groupby nos devuelve un objeto pandas.core.groupby.generic.DataFrameGroupBy.\n",
        "\n",
        "Sobre este objeto, podemos aplicar directamente funciones de agregación como .count(), .sum(), .mean(), etcétera:"
      ]
    },
    {
      "cell_type": "code",
      "execution_count": null,
      "metadata": {
        "id": "xesUrobT6FsO"
      },
      "outputs": [],
      "source": [
        "group_by_country.count().head()"
      ]
    },
    {
      "cell_type": "code",
      "execution_count": null,
      "metadata": {
        "id": "nbUxLjii6Fuw"
      },
      "outputs": [],
      "source": [
        "group_by_country.mean()"
      ]
    },
    {
      "cell_type": "markdown",
      "metadata": {
        "id": "o92zQZfr61XD"
      },
      "source": [
        "¿ Por qué cuando aplicamos la función mean solo nos trae 4 columnas y el indice ?"
      ]
    },
    {
      "cell_type": "markdown",
      "metadata": {
        "id": "SHBe87z767Uf"
      },
      "source": [
        "También podemos agrupar por múltiples columnas:"
      ]
    },
    {
      "cell_type": "code",
      "execution_count": null,
      "metadata": {
        "id": "CDbU0ywe6FyV"
      },
      "outputs": [],
      "source": [
        "group_by_country_prov = df.groupby(['country', 'province'])\n",
        "group_by_country_prov.mean().head()"
      ]
    },
    {
      "cell_type": "markdown",
      "metadata": {
        "id": "XwRVfQBM7Fr5"
      },
      "source": [
        "Y si no queremos que las variables por las que agrupamos se conviertan en indices y sean una columna más, podemos especificarlo en la función:"
      ]
    },
    {
      "cell_type": "code",
      "execution_count": null,
      "metadata": {
        "id": "o1bJs_kQ7LYh"
      },
      "outputs": [],
      "source": [
        "group_by_country_prov = df.groupby(['country', 'province'], as_index=False)\n",
        "group_by_country_prov.sum().head()"
      ]
    },
    {
      "cell_type": "markdown",
      "metadata": {
        "id": "IyvJElzB7P-K"
      },
      "source": [
        "Finalmente, también podemos aplicar distintas funciones de agregación a cada columna.\n",
        "\n",
        "EJERCICIO: Averiguar como podemos aplicar una función de agregación distinta a cada columna y:\n",
        "\n",
        "1) Agrupar el dataset por pais\n",
        "2) Obtener una columna que tenga el precio medio por país y otra que contenga la sumatoria de puntos. (.mean() y .sum() )."
      ]
    },
    {
      "cell_type": "markdown",
      "metadata": {
        "id": "RV59nFtG1LxT"
      },
      "source": [
        "# Sort values\n",
        "\n",
        "Para ordenar un dataframe de pandas, podemos utilizar la función sort_values()\n",
        "\n",
        "EJERCICIO:\n",
        "\n",
        "Ordenar el dataset por \"points\" de manera descendente."
      ]
    },
    {
      "cell_type": "code",
      "execution_count": null,
      "metadata": {
        "id": "0astsl4L7p_0"
      },
      "outputs": [],
      "source": [
        "help(pd.DataFrame.sort_values)"
      ]
    },
    {
      "cell_type": "markdown",
      "source": [
        "------ ¡Fin de notebook! ------"
      ],
      "metadata": {
        "id": "DHR4gvbPWX0f"
      }
    }
  ],
  "metadata": {
    "colab": {
      "provenance": [],
      "include_colab_link": true
    },
    "kernelspec": {
      "display_name": "Python 3",
      "language": "python",
      "name": "python3"
    },
    "language_info": {
      "codemirror_mode": {
        "name": "ipython",
        "version": 3
      },
      "file_extension": ".py",
      "mimetype": "text/x-python",
      "name": "python",
      "nbconvert_exporter": "python",
      "pygments_lexer": "ipython3",
      "version": "3.8.8"
    },
    "vscode": {
      "interpreter": {
        "hash": "892d461b55a6ce994a56bafd67ae2f3489d9f23234c096cfb51dfe498c166e4b"
      }
    }
  },
  "nbformat": 4,
  "nbformat_minor": 0
}